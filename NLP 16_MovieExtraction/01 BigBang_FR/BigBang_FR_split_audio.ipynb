{
 "cells": [
  {
   "cell_type": "code",
   "execution_count": 5,
   "metadata": {},
   "outputs": [],
   "source": [
    "import video_toolkit as vt\n",
    "from pathlib import Path\n",
    "from pydub import AudioSegment\n",
    "import subprocess\n",
    "import os_toolkit as ost\n",
    "from tqdm.auto import tqdm\n",
    "from playsound import playsound"
   ]
  },
  {
   "cell_type": "code",
   "execution_count": 6,
   "metadata": {},
   "outputs": [],
   "source": [
    "alarm_path = r\"H:\\D_Music\\Sound Effect positive-logo-opener.mp3\""
   ]
  },
  {
   "cell_type": "code",
   "execution_count": 7,
   "metadata": {},
   "outputs": [],
   "source": [
    "playsound(alarm_path)"
   ]
  },
  {
   "cell_type": "code",
   "execution_count": 2,
   "metadata": {},
   "outputs": [],
   "source": [
    "splitted_audio_folder:list[str|Path|None] = [None for _ in range(20)]\n",
    "input_audio_folder: list[str|Path|None] = [None for _ in range(20)]\n",
    "sub_folder: list[str|Path|None] = [None for _ in range(20)]"
   ]
  },
  {
   "cell_type": "code",
   "execution_count": 3,
   "metadata": {},
   "outputs": [],
   "source": [
    "# season 1 has no sub for some unknown reason\n",
    "# declare many paths\n",
    "for season_int in range(2,12):\n",
    "    season_str = str(season_int).zfill(2)\n",
    "    splitted_audio_folder[season_int] = fr\"H:\\D_Video_Python\\French\\BigBang French_test1\\BigBang FR Season {season_str}\\Season {season_str} Splitted Audio\"\n",
    "    input_audio_folder[season_int] = fr\"H:\\D_Video\\BigBang French\\BigBang FR Season {season_str}\\Season {season_str} Audio\\French\"\n",
    "                                        # \"H:\\D_Video\\BigBang French\\BigBang FR Season 11\\Season 11 Audio\\French\"\n",
    "    sub_folder[season_int] = fr\"H:\\D_Video\\BigBang French\\BigBang FR Season {season_str}\"\n",
    "\n",
    "prefix_names: dict[int, list[str]] = {}\n"
   ]
  },
  {
   "cell_type": "code",
   "execution_count": 4,
   "metadata": {},
   "outputs": [],
   "source": [
    "for season in range(1,12):\n",
    "    episode_names = ost.get_filename(input_audio_folder[season])\n",
    "    n_episode = len(episode_names)\n",
    "    each_season = []\n",
    "    for episode in range(1,n_episode + 1):\n",
    "        season_str = str(season).zfill(2)\n",
    "        episode_str = str(episode).zfill(2)\n",
    "        each_season.append(f\"BigBang FR S{season_str}E{episode_str}\")\n",
    "    prefix_names[season] = each_season"
   ]
  },
  {
   "cell_type": "code",
   "execution_count": 8,
   "metadata": {},
   "outputs": [
    {
     "data": {
      "application/vnd.jupyter.widget-view+json": {
       "model_id": "5eef4694a3554862afd9a81b73e6db4d",
       "version_major": 2,
       "version_minor": 0
      },
      "text/plain": [
       "Season :   0%|          | 0/3 [00:00<?, ?it/s]"
      ]
     },
     "metadata": {},
     "output_type": "display_data"
    },
    {
     "name": "stdout",
     "output_type": "stream",
     "text": [
      "('BigBang FR S09E01_FR.mp3', 'BigBang FR S09E01.mkv')\n",
      "('BigBang FR S09E02_FR.mp3', 'BigBang FR S09E02.mkv')\n",
      "('BigBang FR S09E03_FR.mp3', 'BigBang FR S09E03.mkv')\n",
      "('BigBang FR S09E04_FR.mp3', 'BigBang FR S09E04.mkv')\n",
      "('BigBang FR S09E05_FR.mp3', 'BigBang FR S09E05.mkv')\n",
      "('BigBang FR S09E06_FR.mp3', 'BigBang FR S09E06.mkv')\n",
      "('BigBang FR S09E07_FR.mp3', 'BigBang FR S09E07.mkv')\n",
      "('BigBang FR S09E08_FR.mp3', 'BigBang FR S09E08.mkv')\n",
      "('BigBang FR S09E09_FR.mp3', 'BigBang FR S09E09.mkv')\n",
      "('BigBang FR S09E10_FR.mp3', 'BigBang FR S09E10.mkv')\n",
      "('BigBang FR S09E11_FR.mp3', 'BigBang FR S09E11.mkv')\n",
      "('BigBang FR S09E12_FR.mp3', 'BigBang FR S09E12.mkv')\n",
      "('BigBang FR S09E13_FR.mp3', 'BigBang FR S09E13.mkv')\n",
      "('BigBang FR S09E14_FR.mp3', 'BigBang FR S09E14.mkv')\n",
      "('BigBang FR S09E15_FR.mp3', 'BigBang FR S09E15.mkv')\n",
      "('BigBang FR S09E16_FR.mp3', 'BigBang FR S09E16.mkv')\n",
      "('BigBang FR S09E17_FR.mp3', 'BigBang FR S09E17.mkv')\n",
      "('BigBang FR S09E18_FR.mp3', 'BigBang FR S09E18.mkv')\n",
      "('BigBang FR S09E19_FR.mp3', 'BigBang FR S09E19.mkv')\n",
      "('BigBang FR S09E20_FR.mp3', 'BigBang FR S09E20.mkv')\n",
      "('BigBang FR S09E21_FR.mp3', 'BigBang FR S09E21.mkv')\n",
      "('BigBang FR S09E22_FR.mp3', 'BigBang FR S09E22.mkv')\n",
      "('BigBang FR S09E23_FR.mp3', 'BigBang FR S09E23.mkv')\n",
      "('BigBang FR S09E24_FR.mp3', 'BigBang FR S09E24.mkv')\n"
     ]
    },
    {
     "data": {
      "application/vnd.jupyter.widget-view+json": {
       "model_id": "551504b8ba7f4938b7ebfacd3679952b",
       "version_major": 2,
       "version_minor": 0
      },
      "text/plain": [
       "Splitting the audio:   0%|          | 0/24 [00:00<?, ?it/s]"
      ]
     },
     "metadata": {},
     "output_type": "display_data"
    },
    {
     "name": "stdout",
     "output_type": "stream",
     "text": [
      "('BigBang FR S10E01_FR.mp3', 'BigBang FR S10E01.mkv')\n",
      "('BigBang FR S10E02_FR.mp3', 'BigBang FR S10E02.mkv')\n",
      "('BigBang FR S10E03_FR.mp3', 'BigBang FR S10E03.mkv')\n",
      "('BigBang FR S10E04n_FR.mp3', 'BigBang FR S10E04n.mkv')\n",
      "('BigBang FR S10E05_FR.mp3', 'BigBang FR S10E05.mkv')\n",
      "('BigBang FR S10E06_FR.mp3', 'BigBang FR S10E06.mkv')\n",
      "('BigBang FR S10E07_FR.mp3', 'BigBang FR S10E07.mkv')\n",
      "('BigBang FR S10E08_FR.mp3', 'BigBang FR S10E08.mkv')\n",
      "('BigBang FR S10E09_FR.mp3', 'BigBang FR S10E09.mkv')\n",
      "('BigBang FR S10E10_FR.mp3', 'BigBang FR S10E10.mkv')\n",
      "('BigBang FR S10E11_FR.mp3', 'BigBang FR S10E11.mkv')\n",
      "('BigBang FR S10E12_FR.mp3', 'BigBang FR S10E12.mkv')\n",
      "('BigBang FR S10E13_FR.mp3', 'BigBang FR S10E13.mkv')\n",
      "('BigBang FR S10E14_FR.mp3', 'BigBang FR S10E14.mkv')\n",
      "('BigBang FR S10E15_FR.mp3', 'BigBang FR S10E15.mkv')\n",
      "('BigBang FR S10E16_FR.mp3', 'BigBang FR S10E16.mkv')\n",
      "('BigBang FR S10E17_FR.mp3', 'BigBang FR S10E17.mkv')\n",
      "('BigBang FR S10E18_FR.mp3', 'BigBang FR S10E18.mkv')\n",
      "('BigBang FR S10E19_FR.mp3', 'BigBang FR S10E19.mkv')\n",
      "('BigBang FR S10E20_FR.mp3', 'BigBang FR S10E20.mkv')\n",
      "('BigBang FR S10E21_FR.mp3', 'BigBang FR S10E21.mkv')\n",
      "('BigBang FR S10E22_FR.mp3', 'BigBang FR S10E22.mkv')\n",
      "('BigBang FR S10E23_FR.mp3', 'BigBang FR S10E23.mkv')\n",
      "('BigBang FR S10E24_FR.mp3', 'BigBang FR S10E24.mkv')\n"
     ]
    },
    {
     "data": {
      "application/vnd.jupyter.widget-view+json": {
       "model_id": "1d640e5dda82431fb4c2d00f1605de22",
       "version_major": 2,
       "version_minor": 0
      },
      "text/plain": [
       "Splitting the audio:   0%|          | 0/24 [00:00<?, ?it/s]"
      ]
     },
     "metadata": {},
     "output_type": "display_data"
    },
    {
     "name": "stdout",
     "output_type": "stream",
     "text": [
      "('BigBang FR S11E01_FR.mp3', 'BigBang FR S11E01.mkv')\n",
      "('BigBang FR S11E02_FR.mp3', 'BigBang FR S11E02.mkv')\n",
      "('BigBang FR S11E03_FR.mp3', 'BigBang FR S11E03.mkv')\n",
      "('BigBang FR S11E04_FR.mp3', 'BigBang FR S11E04.mkv')\n",
      "('BigBang FR S11E05_FR.mp3', 'BigBang FR S11E05.mkv')\n",
      "('BigBang FR S11E06_FR.mp3', 'BigBang FR S11E06.mkv')\n",
      "('BigBang FR S11E07_FR.mp3', 'BigBang FR S11E07.mkv')\n",
      "('BigBang FR S11E08_FR.mp3', 'BigBang FR S11E08.mkv')\n",
      "('BigBang FR S11E09_FR.mp3', 'BigBang FR S11E09.mkv')\n",
      "('BigBang FR S11E10_FR.mp3', 'BigBang FR S11E10.mkv')\n",
      "('BigBang FR S11E11_FR.mp3', 'BigBang FR S11E11.mkv')\n",
      "('BigBang FR S11E12_FR.mp3', 'BigBang FR S11E12.mkv')\n",
      "('BigBang FR S11E13_FR.mp3', 'BigBang FR S11E13.mkv')\n",
      "('BigBang FR S11E14_FR.mp3', 'BigBang FR S11E14.mkv')\n",
      "('BigBang FR S11E15_FR.mp3', 'BigBang FR S11E15.mkv')\n",
      "('BigBang FR S11E16_FR.mp3', 'BigBang FR S11E16.mkv')\n",
      "('BigBang FR S11E17_FR.mp3', 'BigBang FR S11E17.mkv')\n",
      "('BigBang FR S11E18_FR.mp3', 'BigBang FR S11E18.mkv')\n",
      "('BigBang FR S11E19_FR.mp3', 'BigBang FR S11E19.mkv')\n",
      "('BigBang FR S11E20_FR.mp3', 'BigBang FR S11E20.mkv')\n",
      "('BigBang FR S11E21_FR.mp3', 'BigBang FR S11E21.mkv')\n",
      "('BigBang FR S11E22_FR.mp3', 'BigBang FR S11E22.mkv')\n",
      "('BigBang FR S11E23_FR.mp3', 'BigBang FR S11E23.mkv')\n",
      "('BigBang FR S11E24_FR.mp3', 'BigBang FR S11E24.mkv')\n"
     ]
    },
    {
     "data": {
      "application/vnd.jupyter.widget-view+json": {
       "model_id": "b4d280c06c5f47638c66f2ae11bc4d4c",
       "version_major": 2,
       "version_minor": 0
      },
      "text/plain": [
       "Splitting the audio:   0%|          | 0/24 [00:00<?, ?it/s]"
      ]
     },
     "metadata": {},
     "output_type": "display_data"
    }
   ],
   "source": [
    "for season in tqdm(range(9,12), desc= f\"Season \"):\n",
    "    episode_names = ost.get_filename(input_audio_folder[season])\n",
    "    n_episode = len(episode_names)\n",
    "    # try:\n",
    "    # for episode in range(1,n_episode+1):\n",
    "    #     curr_prefix_names\n",
    "    vt.split_audio_by_sub(\n",
    "        media_paths = input_audio_folder[season],\n",
    "        sub_paths = sub_folder[season],\n",
    "        output_folder = splitted_audio_folder[season],\n",
    "        prefix_names = prefix_names[season],\n",
    "        modify_sub = True,\n",
    "        progress_bar=True\n",
    "        \n",
    "    )\n",
    "playsound(alarm_path)"
   ]
  }
 ],
 "metadata": {
  "kernelspec": {
   "display_name": "Python 3",
   "language": "python",
   "name": "python3"
  },
  "language_info": {
   "codemirror_mode": {
    "name": "ipython",
    "version": 3
   },
   "file_extension": ".py",
   "mimetype": "text/x-python",
   "name": "python",
   "nbconvert_exporter": "python",
   "pygments_lexer": "ipython3",
   "version": "3.12.4"
  }
 },
 "nbformat": 4,
 "nbformat_minor": 2
}
