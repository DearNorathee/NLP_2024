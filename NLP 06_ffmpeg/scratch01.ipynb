{
 "cells": [
  {
   "cell_type": "code",
   "execution_count": 1,
   "metadata": {},
   "outputs": [
    {
     "data": {
      "application/vnd.jupyter.widget-view+json": {
       "model_id": "1e4a77814596429c8ff6d913edc7fb5f",
       "version_major": 2,
       "version_minor": 0
      },
      "text/plain": [
       "IntSlider(value=0)"
      ]
     },
     "execution_count": 1,
     "metadata": {},
     "output_type": "execute_result"
    }
   ],
   "source": [
    "import ipywidgets as widgets\n",
    "# widgets.IntSlider()"
   ]
  },
  {
   "cell_type": "code",
   "execution_count": 4,
   "metadata": {},
   "outputs": [
    {
     "data": {
      "application/vnd.jupyter.widget-view+json": {
       "model_id": "4dd88fde0b5b49338c6d0e5f8f86d428",
       "version_major": 2,
       "version_minor": 0
      },
      "text/plain": [
       "Outer Loop:   0%|          | 0/5 [00:00<?, ?it/s]"
      ]
     },
     "metadata": {},
     "output_type": "display_data"
    },
    {
     "data": {
      "application/vnd.jupyter.widget-view+json": {
       "model_id": "890868677fe444b1a47ff374adc397d0",
       "version_major": 2,
       "version_minor": 0
      },
      "text/plain": [
       "Inner Loop:   0%|          | 0/10 [00:00<?, ?it/s]"
      ]
     },
     "metadata": {},
     "output_type": "display_data"
    },
    {
     "data": {
      "application/vnd.jupyter.widget-view+json": {
       "model_id": "96bd13caed5140fab37a4467cb397e5d",
       "version_major": 2,
       "version_minor": 0
      },
      "text/plain": [
       "Inner Loop:   0%|          | 0/10 [00:00<?, ?it/s]"
      ]
     },
     "metadata": {},
     "output_type": "display_data"
    },
    {
     "data": {
      "application/vnd.jupyter.widget-view+json": {
       "model_id": "04846c5a7dfc4b999b3fc166ad3fcf9e",
       "version_major": 2,
       "version_minor": 0
      },
      "text/plain": [
       "Inner Loop:   0%|          | 0/10 [00:00<?, ?it/s]"
      ]
     },
     "metadata": {},
     "output_type": "display_data"
    },
    {
     "data": {
      "application/vnd.jupyter.widget-view+json": {
       "model_id": "1cdb1eeb94fa4f4ba639c108fb41efa6",
       "version_major": 2,
       "version_minor": 0
      },
      "text/plain": [
       "Inner Loop:   0%|          | 0/10 [00:00<?, ?it/s]"
      ]
     },
     "metadata": {},
     "output_type": "display_data"
    },
    {
     "data": {
      "application/vnd.jupyter.widget-view+json": {
       "model_id": "8901b674be404ded871789cd0f8f021f",
       "version_major": 2,
       "version_minor": 0
      },
      "text/plain": [
       "Inner Loop:   0%|          | 0/10 [00:00<?, ?it/s]"
      ]
     },
     "metadata": {},
     "output_type": "display_data"
    }
   ],
   "source": [
    "# from tqdm.notebook import tqdm\n",
    "# from tqdm import tqdm\n",
    "from tqdm.auto import tqdm\n",
    "import time\n",
    "for i in tqdm(range(5), desc=\"Outer Loop\",):\n",
    "    # Inner loop (20 iterations), with a new progress bar for each outer iteration\n",
    "    for j in tqdm(range(10), desc=\"Inner Loop\",leave=False):\n",
    "        time.sleep(0.1)  # Simulate some work"
   ]
  }
 ],
 "metadata": {
  "kernelspec": {
   "display_name": "stable_whisper",
   "language": "python",
   "name": "python3"
  },
  "language_info": {
   "codemirror_mode": {
    "name": "ipython",
    "version": 3
   },
   "file_extension": ".py",
   "mimetype": "text/x-python",
   "name": "python",
   "nbconvert_exporter": "python",
   "pygments_lexer": "ipython3",
   "version": "3.12.4"
  }
 },
 "nbformat": 4,
 "nbformat_minor": 2
}
