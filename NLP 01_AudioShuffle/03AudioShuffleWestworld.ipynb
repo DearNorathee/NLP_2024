{
 "cells": [
  {
   "cell_type": "code",
   "execution_count": 1,
   "metadata": {},
   "outputs": [],
   "source": [
    "folder_path = r\"C:\\Users\\Heng2020\\OneDrive\\D_Code\\Python\\Python NLP\\NLP 01\\OutputData\\Westworld S04E01\"\n",
    "script_path = r\"C:\\Users\\Heng2020\\OneDrive\\D_Code\\Python\\Python NLP\\NLP 01\\OutputData\\Westworld_S04E01_pd.xlsx\"\n"
   ]
  },
  {
   "cell_type": "code",
   "execution_count": 5,
   "metadata": {},
   "outputs": [],
   "source": [
    "from playsound import playsound\n",
    "import os\n",
    "import random\n",
    "import pandas as pd\n",
    "import os_toolkit as ost\n",
    "from pydub import AudioSegment\n",
    "from pydub.playback import play\n",
    "\n",
    "import whisper \n",
    "\n",
    "import ffmpeg\n",
    "from playsound import playsound\n",
    "from pydub import AudioSegment\n",
    "from pydub.playback import play\n",
    "\n",
    "# Example usage\n",
    "\n",
    "alarm_path = \"H:\\D_Music\\Sound Effect positive-logo-opener.mp3\"\n",
    "speed_factor = 0.5  # Play at 50% slower speed\n",
    "################################ reload model(needs to be runed) ######################################\n",
    "# spyder can't have model_base &  model_large: I have to reload everytime\n"
   ]
  },
  {
   "cell_type": "code",
   "execution_count": 3,
   "metadata": {},
   "outputs": [],
   "source": [
    "def play_audio_slower(audio_path, speed_factor):\n",
    "    # still not working\n",
    "    # right now I use this to play audio because playsound sometimes have weird problem\n",
    "    # TODO: Find way to play audio with slower speed without changing the file\n",
    "    audio = AudioSegment.from_file(audio_path)\n",
    "    \n",
    "    # slowed_audio = audio.speedup(playback_speed=1/speed_factor)\n",
    "    slow_audio = audio._spawn(audio.raw_data, overrides={\"frame_rate\": int(audio.frame_rate * speed_factor)})\n",
    "    play(slow_audio)\n",
    "\n",
    "\n",
    "def get_filename(folder_path,extension = \"all\"):\n",
    "    # also include \"folder\"  case\n",
    "# tested small\n",
    "    if extension == \"all\":\n",
    "        out_list = [ file for file in os.listdir(folder_path) ]\n",
    "\n",
    "    elif isinstance(extension,str):\n",
    "        extension_temp = [extension]\n",
    "\n",
    "        out_list = []\n",
    "\n",
    "        for file in os.listdir(folder_path):\n",
    "            if \".\" in file:\n",
    "                file_extension = file.split('.')[-1]\n",
    "                for each_extention in extension_temp:\n",
    "                    # support when it's \".csv\" or only \"csv\"\n",
    "                    if file_extension in each_extention:\n",
    "                        out_list.append(file)\n",
    "            elif extension == \"folder\":\n",
    "                out_list.append(file)\n",
    "\n",
    "\n",
    "    elif isinstance(extension,list):\n",
    "        out_list = []\n",
    "        for file in os.listdir(folder_path):\n",
    "\n",
    "            if \".\" in file:\n",
    "                file_extension = file.split('.')[-1]\n",
    "                for each_extention in extension:\n",
    "                    # support when it's \".csv\" or only \"csv\"\n",
    "                    if file_extension in each_extention:\n",
    "                        out_list.append(file)\n",
    "\n",
    "            elif \"folder\" in extension:\n",
    "                out_list.append(file)\n",
    "\n",
    "        return out_list\n",
    "\n",
    "    else:\n",
    "        print(\"Don't support this dataype for extension: please input only string or list\")\n",
    "        return False\n",
    "\n",
    "    return out_list\n"
   ]
  },
  {
   "cell_type": "code",
   "execution_count": 4,
   "metadata": {},
   "outputs": [
    {
     "name": "stderr",
     "output_type": "stream",
     "text": [
      "c:\\Users\\Heng2020\\.conda\\envs\\stable_whisper\\Lib\\site-packages\\whisper\\__init__.py:146: FutureWarning: You are using `torch.load` with `weights_only=False` (the current default value), which uses the default pickle module implicitly. It is possible to construct malicious pickle data which will execute arbitrary code during unpickling (See https://github.com/pytorch/pytorch/blob/main/SECURITY.md#untrusted-models for more details). In a future release, the default value for `weights_only` will be flipped to `True`. This limits the functions that could be executed during unpickling. Arbitrary objects will no longer be allowed to be loaded via this mode unless they are explicitly allowlisted by the user via `torch.serialization.add_safe_globals`. We recommend you start setting `weights_only=True` for any use case where you don't have full control of the loaded file. Please open an issue on GitHub for any issues related to this experimental feature.\n",
      "  checkpoint = torch.load(fp, map_location=device)\n"
     ]
    }
   ],
   "source": [
    "model_base = whisper.load_model('base')\n",
    "playsound(alarm_path)\n",
    "model_large = whisper.load_model('large')\n",
    "playsound(alarm_path)\n",
    "#------------------------------ reload model ------------------------------\n",
    "\n"
   ]
  },
  {
   "cell_type": "code",
   "execution_count": 6,
   "metadata": {},
   "outputs": [],
   "source": [
    "file_path = ost.get_filename(folder_path,[\".mp3\",\".wav\"])\n",
    "file_path.insert(0,None)\n",
    "script = pd.read_excel(script_path)\n",
    "script = script.drop(script.columns[0],axis=1)"
   ]
  },
  {
   "cell_type": "code",
   "execution_count": 7,
   "metadata": {},
   "outputs": [],
   "source": [
    "start_inx = 1\n",
    "end_inx = 10\n",
    "\n",
    "mySeed = 24"
   ]
  },
  {
   "cell_type": "code",
   "execution_count": 8,
   "metadata": {},
   "outputs": [],
   "source": [
    "# 55 is too easy\n",
    "\n",
    "skip_inx = [4,9,16,17,29,30,52,53,55,68,72,79,84, 124, 152, 153, 154, 155, 156]\n",
    "easy = [1,11,14,6,8,10,7,26,32, 133, 147, 148, 165]\n",
    "\n",
    "# (2,'2-Jul-23')\n",
    "# (6,'2-Jul-23')\n",
    "# (10,'2-Jul-23')\n",
    "# (13,'2-Jul-23')\n",
    "# (18,'2-Jul-23')\n",
    "\n",
    "# (31,'2-Aug-23')\n",
    "# (36,'2-Aug-23')\n",
    "# (38,'2-Aug-23')\n",
    "\n",
    "# (46,'9-Jul-23')\n",
    "# (66,'31-Jul-23')\n",
    "# (67,'31-Jul-23')\n",
    "# (73,'31-Jul-23')\n",
    "# (75,'31-Jul-23')\n",
    "\n",
    "# (147,'9-Apr-23')\n",
    "# (148,'9-Apr-23')\n",
    "# (149,'9-Apr-23')\n",
    "\n",
    "# (159,'11-Apr-23')\n",
    "# (160,'11-Apr-23')\n",
    "\n",
    "# (166,'12-Apr-23')\n"
   ]
  },
  {
   "cell_type": "code",
   "execution_count": 9,
   "metadata": {},
   "outputs": [],
   "source": [
    "random_inx_list =list(range(start_inx,end_inx+1))\n",
    "\n",
    "random_inx_list = [x for x in random_inx_list if x not in skip_inx]"
   ]
  },
  {
   "cell_type": "code",
   "execution_count": 10,
   "metadata": {},
   "outputs": [
    {
     "name": "stdout",
     "output_type": "stream",
     "text": [
      "Allow index is from 0 to 7\n"
     ]
    }
   ],
   "source": [
    "print(f\"Allow index is from 0 to {len(random_inx_list)-1}\")"
   ]
  },
  {
   "cell_type": "code",
   "execution_count": 11,
   "metadata": {},
   "outputs": [],
   "source": [
    "random.seed(mySeed)\n",
    "random.shuffle(random_inx_list)"
   ]
  },
  {
   "cell_type": "code",
   "execution_count": 53,
   "metadata": {},
   "outputs": [
    {
     "name": "stdout",
     "output_type": "stream",
     "text": [
      "Index: 181\n"
     ]
    }
   ],
   "source": [
    "########################## run below recurrently ##################################\n",
    "# chosen_inx = random_inx_list[3]\n",
    "chosen_inx = 181\n",
    "print(f\"Index: {chosen_inx}\")\n",
    "audio_path = os.path.join(folder_path,file_path[chosen_inx])\n",
    "speed_factor = 1\n",
    "\n",
    "play_audio_slower(audio_path, speed_factor)\n"
   ]
  },
  {
   "cell_type": "code",
   "execution_count": 46,
   "metadata": {},
   "outputs": [
    {
     "name": "stdout",
     "output_type": "stream",
     "text": [
      "Deixa eu fazer uma pergunta:\n"
     ]
    }
   ],
   "source": [
    "###################### show answer\n",
    "ans = script.loc[chosen_inx-1,'sentence']\n",
    "print(ans)"
   ]
  },
  {
   "cell_type": "code",
   "execution_count": 47,
   "metadata": {},
   "outputs": [
    {
     "name": "stdout",
     "output_type": "stream",
     "text": [
      " Deixa eu te perguntar uma coisa.\n"
     ]
    }
   ],
   "source": [
    "################################\n",
    "text_pred = model_base.transcribe(audio_path,language=\"pt\")['text']\n",
    "print(text_pred)"
   ]
  },
  {
   "cell_type": "code",
   "execution_count": 26,
   "metadata": {},
   "outputs": [
    {
     "name": "stdout",
     "output_type": "stream",
     "text": [
      " não nos disse quem poderíamos ser. Nos disseram quem nós éramos.\n"
     ]
    }
   ],
   "source": [
    "text_pred = model_large.transcribe(audio_path,language=\"pt\")['text']\n",
    "print(text_pred)\n",
    "playsound(alarm_path)\n"
   ]
  }
 ],
 "metadata": {
  "kernelspec": {
   "display_name": "stable_whisper",
   "language": "python",
   "name": "python3"
  },
  "language_info": {
   "codemirror_mode": {
    "name": "ipython",
    "version": 3
   },
   "file_extension": ".py",
   "mimetype": "text/x-python",
   "name": "python",
   "nbconvert_exporter": "python",
   "pygments_lexer": "ipython3",
   "version": "3.11.5"
  },
  "orig_nbformat": 4
 },
 "nbformat": 4,
 "nbformat_minor": 2
}
