{
 "cells": [
  {
   "cell_type": "code",
   "execution_count": 1,
   "metadata": {},
   "outputs": [],
   "source": [
    "\n",
    "# folder_path = r\"H:\\D_Music\\_Learn Languages\\French\\Local TTS generated\\Duolingo\\Food\"\n",
    "folder_path = r\"H:\\D_Music\\_Learn Languages\\French\\Local TTS generated\\Duolingo\\04_Food\"\n",
    "\n",
    "\n",
    "folder_path = r\"H:\\D_Music\\_Learn Languages\\French\\Local TTS generated\\Duolingo\\13_Verbs Present 1\"\n",
    "\n",
    "folder_path = r\"H:\\D_Music\\_Learn Languages\\French\\Local TTS generated\\Duolingo\\12_Colors\"\n",
    "folder_path = r\"H:\\D_Music\\_Learn Languages\\French\\Local TTS generated\\Duolingo\\05_Animals\"\n",
    "folder_path = r\"H:\\D_Music\\_Learn Languages\\French\\Forvo\\01 Basic Present\""
   ]
  },
  {
   "cell_type": "code",
   "execution_count": 7,
   "metadata": {},
   "outputs": [],
   "source": [
    "\n",
    "from playsound import playsound\n",
    "import os\n",
    "import random\n",
    "import pandas as pd\n",
    "import video_toolkit as vt\n",
    "from pydub import AudioSegment\n",
    "from pydub.playback import play\n",
    "\n",
    "\n",
    "import ffmpeg\n",
    "from playsound import playsound\n",
    "from pydub import AudioSegment\n",
    "from pydub.playback import play\n",
    "\n",
    "import os_toolkit as ost\n",
    "# Example usage\n",
    "\n",
    "alarm_path = \"H:\\D_Music\\Sound Effect positive-logo-opener.mp3\"\n",
    "speed_factor = 0.5  # Play at 50% slower speed\n",
    "\n",
    "################################ reload model(needs to be runed) ######################################\n",
    "# spyder can't have model_base &  model_large: I have to reload everytime"
   ]
  },
  {
   "cell_type": "code",
   "execution_count": 3,
   "metadata": {},
   "outputs": [],
   "source": [
    "def play_audio_slower(audio_path, speed_factor):\n",
    "    # still not working\n",
    "    # right now I use this to play audio because playsound sometimes have weird problem\n",
    "    # TODO: Find way to play audio with slower speed without changing the file\n",
    "    audio = AudioSegment.from_file(audio_path)\n",
    "\n",
    "    # slowed_audio = audio.speedup(playback_speed=1/speed_factor)\n",
    "    slow_audio = audio._spawn(audio.raw_data, overrides={\"frame_rate\": int(audio.frame_rate * speed_factor)})\n",
    "    play(slow_audio)\n",
    "\n",
    "#------------------------------ reload model ------------------------------\n",
    "\n"
   ]
  },
  {
   "cell_type": "code",
   "execution_count": 4,
   "metadata": {},
   "outputs": [],
   "source": [
    "file_path = ost.get_filename(folder_path,[\".mp3\",\".wav\"])\n",
    "file_path.insert(0,None)\n",
    "\n",
    "# what if the audio extension is .wav?\n",
    "\n",
    "target_lang = [None]\n",
    "eng_translation = [None]\n",
    "for i in range(1,len(file_path)):\n",
    "    filename = file_path[i]\n",
    "    _, vocab, translation = filename.split(\"_\")\n",
    "    translation = translation.replace(\".mp3\",\"\").replace(\".wav\",\"\")\n",
    "    target_lang.append(vocab)\n",
    "    eng_translation.append(translation)\n"
   ]
  },
  {
   "cell_type": "code",
   "execution_count": 5,
   "metadata": {},
   "outputs": [],
   "source": [
    "# keep_inx for 04_Food\n",
    "keep_inx = [6,10, 25, 31]\n",
    "\n",
    "# keep_inx for 13_Verbs Present 1\n",
    "keep_inx = [7,29, 27, 31]\n",
    "\n",
    "skip_inx = []\n",
    "\n",
    "# easy for 04_Food\n",
    "easy = [35,]\n",
    "\n",
    "# easy for 13_Verbs Present 1\n",
    "easy = [4,9,30, 38]\n",
    "# (75,'31-Jul-23')"
   ]
  },
  {
   "cell_type": "code",
   "execution_count": 6,
   "metadata": {},
   "outputs": [
    {
     "name": "stdout",
     "output_type": "stream",
     "text": [
      "Allow index is from 0 to 4\n"
     ]
    }
   ],
   "source": [
    "start_inx = 6\n",
    "end_inx = 10\n",
    "\n",
    "INCLUDE_KEEP_INDEX = False\n",
    "random_inx_list =list(range(start_inx,end_inx+1))\n",
    "\n",
    "if INCLUDE_KEEP_INDEX:\n",
    "    random_inx_list = [x for x in random_inx_list if x not in skip_inx] + keep_inx\n",
    "else:\n",
    "    random_inx_list = [x for x in random_inx_list if x not in skip_inx]\n",
    "\n",
    "print(f\"Allow index is from 0 to {len(random_inx_list)-1}\")\n"
   ]
  },
  {
   "cell_type": "code",
   "execution_count": 62,
   "metadata": {},
   "outputs": [],
   "source": [
    "mySeed = 13\n",
    "random.seed(mySeed)\n",
    "random.shuffle(random_inx_list)"
   ]
  },
  {
   "cell_type": "markdown",
   "metadata": {},
   "source": [
    "---"
   ]
  },
  {
   "cell_type": "markdown",
   "metadata": {},
   "source": [
    "# French word -> Audio/Translation"
   ]
  },
  {
   "cell_type": "code",
   "execution_count": 60,
   "metadata": {},
   "outputs": [
    {
     "name": "stdout",
     "output_type": "stream",
     "text": [
      "Index: 6\n",
      "le tigre\n"
     ]
    }
   ],
   "source": [
    "chosen_inx = random_inx_list[4]\n",
    "ans = target_lang[chosen_inx]\n",
    "print(f\"Index: {chosen_inx}\")\n",
    "print(ans)\n"
   ]
  },
  {
   "cell_type": "markdown",
   "metadata": {},
   "source": [
    "### ---------------------------( French word -> Audio/Translation: show answer)"
   ]
  },
  {
   "cell_type": "code",
   "execution_count": 61,
   "metadata": {},
   "outputs": [
    {
     "name": "stdout",
     "output_type": "stream",
     "text": [
      "tiger\n"
     ]
    }
   ],
   "source": [
    "audio_path = os.path.join(folder_path,file_path[chosen_inx])\n",
    "speed_factor = 1\n",
    "\n",
    "vt.play_audio(audio_path)\n",
    "\n",
    "ans = eng_translation[chosen_inx]\n",
    "print(ans)"
   ]
  },
  {
   "cell_type": "markdown",
   "metadata": {},
   "source": [
    "# Audio -> Translation"
   ]
  },
  {
   "cell_type": "code",
   "execution_count": 71,
   "metadata": {},
   "outputs": [
    {
     "name": "stdout",
     "output_type": "stream",
     "text": [
      "Index: 8\n"
     ]
    }
   ],
   "source": [
    "########################## Audio -> Translation ##################################\n",
    "chosen_inx = random_inx_list[4]\n",
    "# chosen_inx = 2\n",
    "print(f\"Index: {chosen_inx}\")\n",
    "audio_path = os.path.join(folder_path,file_path[chosen_inx])\n",
    "speed_factor = 1\n",
    "\n",
    "play_audio_slower(audio_path, speed_factor)\n"
   ]
  },
  {
   "cell_type": "markdown",
   "metadata": {},
   "source": [
    "### --------------------------------- (Audio -> Translation: show answer)"
   ]
  },
  {
   "cell_type": "code",
   "execution_count": 72,
   "metadata": {},
   "outputs": [
    {
     "name": "stdout",
     "output_type": "stream",
     "text": [
      "08_le serpent_snake.mp3\n"
     ]
    }
   ],
   "source": [
    "ans = file_path[chosen_inx]\n",
    "print(ans)"
   ]
  },
  {
   "cell_type": "markdown",
   "metadata": {},
   "source": [
    "---"
   ]
  },
  {
   "cell_type": "markdown",
   "metadata": {},
   "source": [
    "# Translation -> Audio"
   ]
  },
  {
   "cell_type": "code",
   "execution_count": 83,
   "metadata": {},
   "outputs": [
    {
     "name": "stdout",
     "output_type": "stream",
     "text": [
      "Index: 8\n",
      "snake\n"
     ]
    }
   ],
   "source": [
    "###################### Translation -> Audio ##########################################\n",
    "chosen_inx = random_inx_list[4]\n",
    "# chosen_inx = 2\n",
    "print(f\"Index: {chosen_inx}\")\n",
    "translation = eng_translation[chosen_inx]\n",
    "print(translation)\n"
   ]
  },
  {
   "cell_type": "markdown",
   "metadata": {},
   "source": [
    "### --------------------------( Translation -> Audio: show answer)"
   ]
  },
  {
   "cell_type": "code",
   "execution_count": 84,
   "metadata": {},
   "outputs": [
    {
     "name": "stdout",
     "output_type": "stream",
     "text": [
      "le serpent\n"
     ]
    }
   ],
   "source": [
    "audio_path = os.path.join(folder_path,file_path[chosen_inx])\n",
    "speed_factor = 1\n",
    "ans = target_lang[chosen_inx]\n",
    "print(ans)\n",
    "\n",
    "vt.play_audio(audio_path)"
   ]
  }
 ],
 "metadata": {
  "kernelspec": {
   "display_name": "stable_whisper",
   "language": "python",
   "name": "python3"
  },
  "language_info": {
   "codemirror_mode": {
    "name": "ipython",
    "version": 3
   },
   "file_extension": ".py",
   "mimetype": "text/x-python",
   "name": "python",
   "nbconvert_exporter": "python",
   "pygments_lexer": "ipython3",
   "version": "3.11.5"
  },
  "orig_nbformat": 4
 },
 "nbformat": 4,
 "nbformat_minor": 2
}
