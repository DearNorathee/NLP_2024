{
 "cells": [
  {
   "cell_type": "code",
   "execution_count": 2,
   "metadata": {},
   "outputs": [],
   "source": [
    "\n",
    "# folder_path = r\"H:\\D_Music\\_Learn Languages\\French\\Local TTS generated\\Duolingo\\Food\"\n",
    "folder_path = r\"H:\\D_Music\\_Learn Languages\\French\\Local TTS generated\\Duolingo\\04_Food\"\n",
    "\n",
    "\n",
    "folder_path = r\"H:\\D_Music\\_Learn Languages\\French\\Local TTS generated\\Duolingo\\13_Verbs Present 1\"\n",
    "\n",
    "folder_path = r\"H:\\D_Music\\_Learn Languages\\French\\Local TTS generated\\Duolingo\\12_Colors\"\n",
    "folder_path = r\"H:\\D_Music\\_Learn Languages\\French\\Local TTS generated\\Duolingo\\05_Animals\""
   ]
  },
  {
   "cell_type": "code",
   "execution_count": 3,
   "metadata": {},
   "outputs": [
    {
     "data": {
      "text/html": [
       "<style type='text/css'>\n",
       ".datatable table.frame { margin-bottom: 0; }\n",
       ".datatable table.frame thead { border-bottom: none; }\n",
       ".datatable table.frame tr.coltypes td {  color: #FFFFFF;  line-height: 6px;  padding: 0 0.5em;}\n",
       ".datatable .bool    { background: #DDDD99; }\n",
       ".datatable .object  { background: #565656; }\n",
       ".datatable .int     { background: #5D9E5D; }\n",
       ".datatable .float   { background: #4040CC; }\n",
       ".datatable .str     { background: #CC4040; }\n",
       ".datatable .time    { background: #40CC40; }\n",
       ".datatable .row_index {  background: var(--jp-border-color3);  border-right: 1px solid var(--jp-border-color0);  color: var(--jp-ui-font-color3);  font-size: 9px;}\n",
       ".datatable .frame tbody td { text-align: left; }\n",
       ".datatable .frame tr.coltypes .row_index {  background: var(--jp-border-color0);}\n",
       ".datatable th:nth-child(2) { padding-left: 12px; }\n",
       ".datatable .hellipsis {  color: var(--jp-cell-editor-border-color);}\n",
       ".datatable .vellipsis {  background: var(--jp-layout-color0);  color: var(--jp-cell-editor-border-color);}\n",
       ".datatable .na {  color: var(--jp-cell-editor-border-color);  font-size: 80%;}\n",
       ".datatable .sp {  opacity: 0.25;}\n",
       ".datatable .footer { font-size: 9px; }\n",
       ".datatable .frame_dimensions {  background: var(--jp-border-color3);  border-top: 1px solid var(--jp-border-color0);  color: var(--jp-ui-font-color3);  display: inline-block;  opacity: 0.6;  padding: 1px 10px 1px 5px;}\n",
       "</style>\n"
      ],
      "text/plain": [
       "<IPython.core.display.HTML object>"
      ]
     },
     "metadata": {},
     "output_type": "display_data"
    }
   ],
   "source": [
    "\n",
    "from playsound import playsound\n",
    "import os\n",
    "import random\n",
    "import pandas as pd\n",
    "import video_toolkit as vt\n",
    "from pydub import AudioSegment\n",
    "from pydub.playback import play\n",
    "\n",
    "\n",
    "import ffmpeg\n",
    "from playsound import playsound\n",
    "from pydub import AudioSegment\n",
    "from pydub.playback import play\n",
    "\n",
    "import os_toolkit as ost\n",
    "# Example usage\n",
    "\n",
    "alarm_path = \"H:\\D_Music\\Sound Effect positive-logo-opener.mp3\"\n",
    "speed_factor = 0.5  # Play at 50% slower speed\n",
    "\n",
    "################################ reload model(needs to be runed) ######################################\n",
    "# spyder can't have model_base &  model_large: I have to reload everytime"
   ]
  },
  {
   "cell_type": "code",
   "execution_count": 4,
   "metadata": {},
   "outputs": [],
   "source": [
    "def play_audio_slower(audio_path, speed_factor):\n",
    "    # still not working\n",
    "    # right now I use this to play audio because playsound sometimes have weird problem\n",
    "    # TODO: Find way to play audio with slower speed without changing the file\n",
    "    audio = AudioSegment.from_file(audio_path)\n",
    "\n",
    "    # slowed_audio = audio.speedup(playback_speed=1/speed_factor)\n",
    "    slow_audio = audio._spawn(audio.raw_data, overrides={\"frame_rate\": int(audio.frame_rate * speed_factor)})\n",
    "    play(slow_audio)\n",
    "\n",
    "#------------------------------ reload model ------------------------------\n",
    "\n"
   ]
  },
  {
   "cell_type": "code",
   "execution_count": 5,
   "metadata": {},
   "outputs": [],
   "source": [
    "file_path = ost.get_filename(folder_path,[\".mp3\",\".wav\"])\n",
    "file_path.insert(0,None)\n",
    "\n",
    "# what if the audio extension is .wav?\n",
    "\n",
    "target_lang = [None]\n",
    "eng_translation = [None]\n",
    "for i in range(1,len(file_path)):\n",
    "    filename = file_path[i]\n",
    "    _, vocab, translation = filename.split(\"_\")\n",
    "    translation = translation.replace(\".mp3\",\"\").replace(\".wav\",\"\")\n",
    "    target_lang.append(vocab)\n",
    "    eng_translation.append(translation)\n"
   ]
  },
  {
   "cell_type": "code",
   "execution_count": 160,
   "metadata": {},
   "outputs": [],
   "source": [
    "# keep_inx for 04_Food\n",
    "keep_inx = [6,10, 25, 31]\n",
    "\n",
    "# keep_inx for 13_Verbs Present 1\n",
    "keep_inx = [7,29, 27, 31]\n",
    "\n",
    "skip_inx = []\n",
    "\n",
    "# easy for 04_Food\n",
    "easy = [35,]\n",
    "\n",
    "# easy for 13_Verbs Present 1\n",
    "easy = [4,9,30, 38]\n",
    "\n",
    "# easy Animal\n",
    "keep_inx = [16, 17]\n",
    "\n",
    "\n",
    "keep_inx = [16, 17, 24, 25, 29]\n",
    "\n",
    "\n",
    "# (75,'31-Jul-23')"
   ]
  },
  {
   "cell_type": "code",
   "execution_count": 159,
   "metadata": {},
   "outputs": [
    {
     "name": "stdout",
     "output_type": "stream",
     "text": [
      "Allow index is from 0 to 4\n"
     ]
    }
   ],
   "source": [
    "start_inx = 21\n",
    "end_inx = 29\n",
    "\n",
    "INCLUDE_KEEP_INDEX = True\n",
    "ONLY_KEEP:bool = True\n",
    "\n",
    "random_inx_list =list(range(start_inx,end_inx+1))\n",
    "\n",
    "if ONLY_KEEP:\n",
    "    random_inx_list = list(keep_inx)\n",
    "elif INCLUDE_KEEP_INDEX:\n",
    "    random_inx_list = [x for x in random_inx_list if x not in skip_inx] + keep_inx\n",
    "else:\n",
    "    random_inx_list = [x for x in random_inx_list if x not in skip_inx]\n",
    "\n",
    "print(f\"Allow index is from 0 to {len(random_inx_list)-1}\")\n"
   ]
  },
  {
   "cell_type": "markdown",
   "metadata": {},
   "source": [
    "# Random Index"
   ]
  },
  {
   "cell_type": "code",
   "execution_count": 172,
   "metadata": {},
   "outputs": [],
   "source": [
    "mySeed = 11\n",
    "random.seed(mySeed)\n",
    "random.shuffle(random_inx_list)"
   ]
  },
  {
   "cell_type": "markdown",
   "metadata": {},
   "source": [
    "---"
   ]
  },
  {
   "cell_type": "markdown",
   "metadata": {},
   "source": [
    "# French word -> Audio/Translation"
   ]
  },
  {
   "cell_type": "code",
   "execution_count": 82,
   "metadata": {},
   "outputs": [
    {
     "name": "stdout",
     "output_type": "stream",
     "text": [
      "Index: 2\n",
      "une araignée \n"
     ]
    }
   ],
   "source": [
    "chosen_inx = random_inx_list[27]\n",
    "ans = target_lang[chosen_inx]\n",
    "print(f\"Index: {chosen_inx}\")\n",
    "print(ans)\n"
   ]
  },
  {
   "cell_type": "markdown",
   "metadata": {},
   "source": [
    "### ---------------------------( French word -> Audio/Translation: show answer)"
   ]
  },
  {
   "cell_type": "code",
   "execution_count": 83,
   "metadata": {},
   "outputs": [
    {
     "name": "stdout",
     "output_type": "stream",
     "text": [
      "spider\n"
     ]
    }
   ],
   "source": [
    "audio_path = os.path.join(folder_path,file_path[chosen_inx])\n",
    "speed_factor = 1\n",
    "\n",
    "vt.play_audio(audio_path)\n",
    "\n",
    "ans = eng_translation[chosen_inx]\n",
    "print(ans)"
   ]
  },
  {
   "cell_type": "markdown",
   "metadata": {},
   "source": [
    "# Audio -> Translation"
   ]
  },
  {
   "cell_type": "code",
   "execution_count": 109,
   "metadata": {},
   "outputs": [
    {
     "name": "stdout",
     "output_type": "stream",
     "text": [
      "Index: 15\n"
     ]
    }
   ],
   "source": [
    "########################## Audio -> Translation ##################################\n",
    "chosen_inx = random_inx_list[4]\n",
    "# chosen_inx = 2\n",
    "print(f\"Index: {chosen_inx}\")\n",
    "audio_path = os.path.join(folder_path,file_path[chosen_inx])\n",
    "speed_factor = 1\n",
    "\n",
    "play_audio_slower(audio_path, speed_factor)\n"
   ]
  },
  {
   "cell_type": "markdown",
   "metadata": {},
   "source": [
    "### --------------------------------- (Audio -> Translation: show answer)"
   ]
  },
  {
   "cell_type": "code",
   "execution_count": 12,
   "metadata": {},
   "outputs": [
    {
     "name": "stdout",
     "output_type": "stream",
     "text": [
      "09_le papillon_butterfly.mp3\n"
     ]
    }
   ],
   "source": [
    "ans = file_path[chosen_inx]\n",
    "print(ans)"
   ]
  },
  {
   "cell_type": "markdown",
   "metadata": {},
   "source": [
    "---"
   ]
  },
  {
   "cell_type": "markdown",
   "metadata": {},
   "source": [
    "# Translation -> Audio"
   ]
  },
  {
   "cell_type": "code",
   "execution_count": 181,
   "metadata": {},
   "outputs": [
    {
     "name": "stdout",
     "output_type": "stream",
     "text": [
      "Index: 16\n",
      "bird\n"
     ]
    }
   ],
   "source": [
    "###################### Translation -> Audio ##########################################\n",
    "chosen_inx = random_inx_list[4]\n",
    "# chosen_inx = 2\n",
    "print(f\"Index: {chosen_inx}\")\n",
    "translation = eng_translation[chosen_inx]\n",
    "print(translation)\n"
   ]
  },
  {
   "cell_type": "markdown",
   "metadata": {},
   "source": [
    "### --------------------------( Translation -> Audio: show answer)"
   ]
  },
  {
   "cell_type": "code",
   "execution_count": 182,
   "metadata": {},
   "outputs": [
    {
     "name": "stdout",
     "output_type": "stream",
     "text": [
      "l'oiseau \n"
     ]
    }
   ],
   "source": [
    "audio_path = os.path.join(folder_path,file_path[chosen_inx])\n",
    "speed_factor = 1\n",
    "ans = target_lang[chosen_inx]\n",
    "print(ans)\n",
    "\n",
    "vt.play_audio(audio_path)"
   ]
  }
 ],
 "metadata": {
  "kernelspec": {
   "display_name": "stable_whisper",
   "language": "python",
   "name": "python3"
  },
  "language_info": {
   "codemirror_mode": {
    "name": "ipython",
    "version": 3
   },
   "file_extension": ".py",
   "mimetype": "text/x-python",
   "name": "python",
   "nbconvert_exporter": "python",
   "pygments_lexer": "ipython3",
   "version": "3.11.5"
  },
  "orig_nbformat": 4
 },
 "nbformat": 4,
 "nbformat_minor": 2
}
