{
 "cells": [
  {
   "cell_type": "code",
   "execution_count": null,
   "metadata": {},
   "outputs": [],
   "source": [
    "\n",
    "# folder_path = r\"H:\\D_Music\\_Learn Languages\\French\\Local TTS generated\\Duolingo\\Food\"\n",
    "folder_path = r\"H:\\D_Music\\_Learn Languages\\French\\Local TTS generated\\Duolingo\\04_Food\"\n",
    "\n",
    "\n",
    "folder_path = r\"H:\\D_Music\\_Learn Languages\\French\\Local TTS generated\\Duolingo\\13_Verbs Present 1\"\n",
    "\n",
    "folder_path = r\"H:\\D_Music\\_Learn Languages\\French\\Local TTS generated\\Duolingo\\12_Colors\"\n",
    "folder_path = r\"H:\\D_Music\\_Learn Languages\\French\\Local TTS generated\\Duolingo\\05_Animals\""
   ]
  },
  {
   "cell_type": "code",
   "execution_count": null,
   "metadata": {},
   "outputs": [],
   "source": [
    "\n",
    "from playsound import playsound\n",
    "import os\n",
    "import random\n",
    "import pandas as pd\n",
    "import video_toolkit as vt\n",
    "from pydub import AudioSegment\n",
    "from pydub.playback import play\n",
    "\n",
    "\n",
    "import ffmpeg\n",
    "from playsound import playsound\n",
    "from pydub import AudioSegment\n",
    "from pydub.playback import play\n",
    "\n",
    "import os_toolkit as ost\n",
    "# Example usage\n",
    "\n",
    "alarm_path = \"H:\\D_Music\\Sound Effect positive-logo-opener.mp3\"\n",
    "speed_factor = 0.5  # Play at 50% slower speed\n",
    "\n",
    "################################ reload model(needs to be runed) ######################################\n",
    "# spyder can't have model_base &  model_large: I have to reload everytime"
   ]
  },
  {
   "cell_type": "code",
   "execution_count": null,
   "metadata": {},
   "outputs": [],
   "source": [
    "def play_audio_slower(audio_path, speed_factor):\n",
    "    # still not working\n",
    "    # right now I use this to play audio because playsound sometimes have weird problem\n",
    "    # TODO: Find way to play audio with slower speed without changing the file\n",
    "    audio = AudioSegment.from_file(audio_path)\n",
    "\n",
    "    # slowed_audio = audio.speedup(playback_speed=1/speed_factor)\n",
    "    slow_audio = audio._spawn(audio.raw_data, overrides={\"frame_rate\": int(audio.frame_rate * speed_factor)})\n",
    "    play(slow_audio)\n",
    "\n",
    "#------------------------------ reload model ------------------------------\n",
    "\n",
    ""
   ]
  },
  {
   "cell_type": "code",
   "execution_count": null,
   "metadata": {},
   "outputs": [],
   "source": [
    "file_path = ost.get_filename(folder_path,[\".mp3\",\".wav\"])\n",
    "file_path.insert(0,None)\n",
    "\n",
    "# what if the audio extension is .wav?\n",
    "\n",
    "target_lang = [None]\n",
    "eng_translation = [None]\n",
    "for i in range(1,len(file_path)):\n",
    "    filename = file_path[i]\n",
    "    _, vocab, translation = filename.split(\"_\")\n",
    "    translation = translation.replace(\".mp3\",\"\").replace(\".wav\",\"\")\n",
    "    target_lang.append(vocab)\n",
    "    eng_translation.append(translation)\n",
    ""
   ]
  },
  {
   "cell_type": "code",
   "execution_count": null,
   "metadata": {},
   "outputs": [],
   "source": [
    "start_inx = 1\n",
    "end_inx = 5\n",
    "\n",
    "\n",
    "# keep_inx for 04_Food\n",
    "keep_inx = [6,10, 25, 31]\n",
    "\n",
    "# keep_inx for 13_Verbs Present 1\n",
    "keep_inx = [7,29, 27, 31]\n",
    "\n",
    "skip_inx = []\n",
    "\n",
    "# easy for 04_Food\n",
    "easy = [35,]\n",
    "\n",
    "# easy for 13_Verbs Present 1\n",
    "easy = [4,9,30, 38]\n",
    "# (75,'31-Jul-23')\n",
    "\n",
    "\n",
    "INCLUDE_KEEP_INDEX = False\n",
    "random_inx_list =list(range(start_inx,end_inx+1))\n",
    "\n",
    "if INCLUDE_KEEP_INDEX:\n",
    "    random_inx_list = [x for x in random_inx_list if x not in skip_inx] + keep_inx\n",
    "else:\n",
    "    random_inx_list = [x for x in random_inx_list if x not in skip_inx]\n",
    "\n",
    "print(f\"Allow index is from 0 to {len(random_inx_list)-1}\")\n",
    ""
   ]
  },
  {
   "cell_type": "code",
   "execution_count": null,
   "metadata": {},
   "outputs": [],
   "source": [
    "mySeed = 1\n",
    "random.seed(mySeed)\n",
    "random.shuffle(random_inx_list)\n",
    ""
   ]
  },
  {
   "cell_type": "code",
   "execution_count": null,
   "metadata": {},
   "outputs": [],
   "source": [
    "###################### French word -> Audio/Translation\n",
    "chosen_inx = random_inx_list[4]\n",
    "ans = target_lang[chosen_inx]\n",
    "print(f\"Index: {chosen_inx}\")\n",
    "print(ans)\n",
    "\n",
    "#---------------------------( French word -> Audio/Translation: show answer)\n",
    "audio_path = os.path.join(folder_path,file_path[chosen_inx])\n",
    "speed_factor = 1\n",
    "\n",
    "vt.play_audio(audio_path)\n",
    "\n",
    "ans = eng_translation[chosen_inx]\n",
    "print(ans)\n",
    ""
   ]
  },
  {
   "cell_type": "code",
   "execution_count": null,
   "metadata": {},
   "outputs": [],
   "source": [
    "########################## Audio -> Translation ##################################\n",
    "chosen_inx = random_inx_list[4]\n",
    "# chosen_inx = 2\n",
    "print(f\"Index: {chosen_inx}\")\n",
    "audio_path = os.path.join(folder_path,file_path[chosen_inx])\n",
    "speed_factor = 1\n",
    "\n",
    "play_audio_slower(audio_path, speed_factor)\n",
    ""
   ]
  },
  {
   "cell_type": "code",
   "execution_count": null,
   "metadata": {},
   "outputs": [],
   "source": [
    "#--------------------------------- (Audio -> Translation: show answer) ------------------------\n",
    "ans = file_path[chosen_inx]\n",
    "print(ans)\n",
    "\n",
    ""
   ]
  },
  {
   "cell_type": "code",
   "execution_count": null,
   "metadata": {},
   "outputs": [],
   "source": [
    "###################### Translation -> Audio ##########################################\n",
    "chosen_inx = random_inx_list[0]\n",
    "# chosen_inx = 2\n",
    "print(f\"Index: {chosen_inx}\")\n",
    "translation = eng_translation[chosen_inx]\n",
    "print(translation)\n",
    "\n",
    "#--------------------------( Translation -> Audio: show answer)\n",
    "audio_path = os.path.join(folder_path,file_path[chosen_inx])\n",
    "speed_factor = 1\n",
    "ans = target_lang[chosen_inx]\n",
    "print(ans)\n",
    "\n",
    "play_audio_slower(audio_path, speed_factor)\n",
    "\n",
    "\n",
    "\n",
    ""
   ]
  }
 ],
 "nbformat": 4,
 "nbformat_minor": 2,
 "metadata": {
  "language_info": {
   "codemirror_mode": {
    "name": "ipython",
    "version": 3
   },
   "file_extension": ".py",
   "mimetype": "text/x-python",
   "name": "python",
   "nbconvert_exporter": "python",
   "pygments_lexer": "ipython3",
   "version": 3
  },
  "orig_nbformat": 4
 }
}