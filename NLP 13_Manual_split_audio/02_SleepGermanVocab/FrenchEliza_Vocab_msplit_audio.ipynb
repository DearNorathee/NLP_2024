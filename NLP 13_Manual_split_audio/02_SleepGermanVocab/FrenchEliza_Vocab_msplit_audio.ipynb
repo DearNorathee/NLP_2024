{
 "cells": [
  {
   "cell_type": "code",
   "execution_count": 128,
   "metadata": {
    "notebookRunGroups": {
     "groupValue": "1"
    }
   },
   "outputs": [],
   "source": [
    "from pydub import AudioSegment\n",
    "from pydub.silence import split_on_silence\n",
    "from pydub.playback import play\n",
    "from pydub.silence import detect_nonsilent\n",
    "from playsound import playsound\n",
    "import py_string_tool as pst\n",
    "from typing import Union,Dict,Tuple, List, Literal\n",
    "import python_wizard as pw\n",
    "import video_toolkit as vt\n",
    "\n",
    "# approx speed of doing manual audio: 30 min/ 10 audio\n"
   ]
  },
  {
   "cell_type": "code",
   "execution_count": 2,
   "metadata": {
    "notebookRunGroups": {
     "groupValue": "1"
    }
   },
   "outputs": [],
   "source": [
    "alarm_path = r\"H:\\D_Music\\Sound Effect positive-logo-opener.mp3\"\n",
    "filepath = r\"H:\\H_Video\\Learn French\\100 questions et réponses en français A1 à C1\\100 questions et réponses en français A1 à C1.mp4\"\n",
    "OUTPUT_FOLDER:str = r\"H:\\H_Video_Python\\Learn French\\100 questions et réponses en français A1 à C1\\Question and Answer Part_YoutubeSub\""
   ]
  },
  {
   "cell_type": "code",
   "execution_count": 3,
   "metadata": {},
   "outputs": [],
   "source": [
    "# took about 2 min(for 3 hr audio)\n",
    "audio = AudioSegment.from_file(filepath) "
   ]
  },
  {
   "cell_type": "code",
   "execution_count": 3,
   "metadata": {},
   "outputs": [],
   "source": [
    "start_time = 35 * 1000  # Start at 35 seconds\n",
    "end_time = (1*60 + 35) * 1000    # End at 1 minute and 35 seconds"
   ]
  },
  {
   "cell_type": "code",
   "execution_count": 4,
   "metadata": {},
   "outputs": [
    {
     "data": {
      "text/plain": [
       "'0.28'"
      ]
     },
     "execution_count": 4,
     "metadata": {},
     "output_type": "execute_result"
    }
   ],
   "source": [
    "time_in_ms:int = 28_000\n",
    "vt.ms_to_time_text(time_in_ms)"
   ]
  },
  {
   "cell_type": "code",
   "execution_count": 113,
   "metadata": {},
   "outputs": [
    {
     "name": "stdout",
     "output_type": "stream",
     "text": [
      "896_000\n",
      "899_000\n"
     ]
    }
   ],
   "source": [
    "time_in_str:str = \"14.56\"\n",
    "vt.text_to_milisecond(time_in_str)\n",
    "print(f\"{vt.text_to_milisecond(time_in_str):_}\")\n",
    "print(f\"{vt.text_to_milisecond(time_in_str)+3000:_}\")"
   ]
  },
  {
   "cell_type": "code",
   "execution_count": 125,
   "metadata": {
    "notebookRunGroups": {
     "groupValue": "1"
    }
   },
   "outputs": [],
   "source": [
    "output_names: dict[int|float, str] = {\n",
    "    49:  \"fr_youtube01_049_j'ai des enfants. Et j'ai lu cette liste à ma mère_manual.mp3\",\n",
    "    72:  \"fr_youtube01_072_On se voit pour Noël, on fête Noël ensemble_manual.mp3\",\n",
    "    73:  \"fr_youtube01_073_parfois le jour de l'an aussi, mais pas toujours_manual.mp3\",\n",
    "    136:  \"fr_youtube01_136_parce que j'adore la civilisation égyptienne_manual.mp3\",\n",
    "    178:  \"fr_youtube01_178_Il y a beaucoup de choses que j'aime cuisiner_manual.mp3\",\n",
    "    180:  \"fr_youtube01_180_Je pense que j'aime bien faire de la pâtisserie en général parce_manual.mp3\",\n",
    "    237:  \"fr_youtube01_237_Au lycée, un peu moins, parce que ça devenait un peu plus compliqué en maths, physique, sciences, etc_manual.mp3\",\n",
    "    245:  \"fr_youtube01_245_J'étais timide quand j'étais assez jeune et en grandissant_manual.mp3\",\n",
    "    # 8:  \"08_How's it going?_Wie get's?.mp3\",\n",
    "    # 9:  \"09_I'm fine. Thank you._Gut, danke.mp3\",\n",
    "    # 7:  \"07_What's up_Alles klar?.mp3\",\n",
    "    }\n"
   ]
  },
  {
   "cell_type": "code",
   "execution_count": 126,
   "metadata": {
    "notebookRunGroups": {
     "groupValue": "1"
    }
   },
   "outputs": [],
   "source": [
    "# cut 6\n",
    "manual_edit: dict[int|float, list[int]] = {\n",
    "    49:  (172_500 , 176_000),\n",
    "    72:  (239_000 , 245_000),\n",
    "    73:  (245_000 , 248_000),\n",
    "    136:  (481_000 , 486_500),\n",
    "    178:  (643_000 , 646_000),\n",
    "    180:  (647_000 , 651_300),\n",
    "    237: (867_000 , 874_100),\n",
    "    245: (896_000 , 902_000),\n",
    "    # 6.1:  (96_000 , 99_000),\n",
    "    # 6.2:  (99_000 , 104_000),\n",
    "    # 7:  (112_000 , 114_000),\n",
    "    # 8:  (126_000 , 129_000),\n",
    "    # 9:  (142_000 , 145_000),\n",
    "\n",
    "    \n",
    "    }\n",
    "manual_index = max(manual_edit.keys())\n",
    "\n",
    "# manual_index = 10.2"
   ]
  },
  {
   "cell_type": "code",
   "execution_count": 123,
   "metadata": {
    "notebookRunGroups": {
     "groupValue": "1"
    }
   },
   "outputs": [],
   "source": [
    "# if your index is higher than it would crash your kernel\n",
    "if manual_edit[manual_index][0] > manual_edit[manual_index][1]:\n",
    "    raise Exception(f\"check your index make sure first index is less than second index\")\n",
    "\n",
    "test_audio02 = audio[manual_edit[manual_index][0] : manual_edit[manual_index][1]]\n",
    "play(test_audio02)\n",
    "# test_audio02\n"
   ]
  },
  {
   "cell_type": "code",
   "execution_count": 127,
   "metadata": {},
   "outputs": [
    {
     "name": "stderr",
     "output_type": "stream",
     "text": [
      "100%|██████████| 8/8 [00:06<00:00,  1.23it/s]\n"
     ]
    }
   ],
   "source": [
    "# play(chunks[audio_index])\n",
    "vt.export_audio(audio, manual_edit, output_names,output_folder=OUTPUT_FOLDER)\n",
    "\n",
    "# plot_loudness(segment)\n"
   ]
  }
 ],
 "metadata": {
  "kernelspec": {
   "display_name": "eleven_labs",
   "language": "python",
   "name": "python3"
  },
  "language_info": {
   "codemirror_mode": {
    "name": "ipython",
    "version": 3
   },
   "file_extension": ".py",
   "mimetype": "text/x-python",
   "name": "python",
   "nbconvert_exporter": "python",
   "pygments_lexer": "ipython3",
   "version": "3.11.5"
  },
  "orig_nbformat": 4
 },
 "nbformat": 4,
 "nbformat_minor": 2
}
