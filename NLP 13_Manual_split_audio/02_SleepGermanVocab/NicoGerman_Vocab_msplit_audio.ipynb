{
 "cells": [
  {
   "cell_type": "code",
   "execution_count": 1,
   "metadata": {
    "notebookRunGroups": {
     "groupValue": "1"
    }
   },
   "outputs": [
    {
     "name": "stderr",
     "output_type": "stream",
     "text": [
      "c:\\Users\\Heng2020\\.conda\\envs\\stable_whisper\\Lib\\site-packages\\tqdm\\auto.py:21: TqdmWarning: IProgress not found. Please update jupyter and ipywidgets. See https://ipywidgets.readthedocs.io/en/stable/user_install.html\n",
      "  from .autonotebook import tqdm as notebook_tqdm\n"
     ]
    }
   ],
   "source": [
    "from pydub import AudioSegment\n",
    "from pydub.silence import split_on_silence\n",
    "from pydub.playback import play\n",
    "from pydub.silence import detect_nonsilent\n",
    "from playsound import playsound\n",
    "import py_string_tool as pst\n",
    "from typing import Union,Dict,Tuple, List, Literal\n",
    "import python_wizard as pw\n",
    "import video_toolkit as vt\n"
   ]
  },
  {
   "cell_type": "code",
   "execution_count": 2,
   "metadata": {
    "notebookRunGroups": {
     "groupValue": "1"
    }
   },
   "outputs": [],
   "source": [
    "alarm_path = r\"H:\\D_Music\\Sound Effect positive-logo-opener.mp3\"\n",
    "filepath = r\"H:\\H_Video\\Learn German\\01_Learn German with Nico\\Learn German with Nico_A1.mp4\"\n",
    "OUTPUT_FOLDER:str = r\"H:\\H_Video_Python\\Learn German\\Learn German with Nico\\Splitted Audio\\Learn German with Nico_A1\""
   ]
  },
  {
   "cell_type": "code",
   "execution_count": 3,
   "metadata": {},
   "outputs": [],
   "source": [
    "# took about 2 min(for 3 hr audio)\n",
    "audio = AudioSegment.from_file(filepath) "
   ]
  },
  {
   "cell_type": "code",
   "execution_count": 3,
   "metadata": {},
   "outputs": [],
   "source": [
    "start_time = 35 * 1000  # Start at 35 seconds\n",
    "end_time = (1*60 + 35) * 1000    # End at 1 minute and 35 seconds\n"
   ]
  },
  {
   "cell_type": "code",
   "execution_count": 4,
   "metadata": {},
   "outputs": [
    {
     "data": {
      "text/plain": [
       "'0.28'"
      ]
     },
     "execution_count": 4,
     "metadata": {},
     "output_type": "execute_result"
    }
   ],
   "source": [
    "time_in_ms:int = 28_000\n",
    "vt.ms_to_time_text(time_in_ms)"
   ]
  },
  {
   "cell_type": "code",
   "execution_count": 26,
   "metadata": {},
   "outputs": [
    {
     "name": "stdout",
     "output_type": "stream",
     "text": [
      "712_000\n",
      "715_000\n"
     ]
    }
   ],
   "source": [
    "time_in_str:str = \"11.52\"\n",
    "vt.text_to_milisecond(time_in_str)\n",
    "print(f\"{vt.text_to_milisecond(time_in_str):_}\")\n",
    "print(f\"{vt.text_to_milisecond(time_in_str)+3000:_}\")"
   ]
  },
  {
   "cell_type": "code",
   "execution_count": 27,
   "metadata": {
    "notebookRunGroups": {
     "groupValue": "1"
    }
   },
   "outputs": [],
   "source": [
    "output_names: dict[int|float, str] = {\n",
    "    129:  \"GermanNico_A1_0129_– Nico war auch am Flughafen_manual.mp3\",\n",
    "    164:  \"GermanNico_A1_0164_Er hilft_manual.mp3\",\n",
    "    202:  \"GermanNico_A1_0202_Ich habe meine Tasche verloren und ein Mann hat sie abgegeben_manual.mp3\",\n",
    "    # 4:  \"04_Good Night_Guten Nacht.mp3\",\n",
    "    # 5.1:  \"05_How are you?(formal)_Wie geht es lhnen?_fast.mp3\",\n",
    "    # 5.2:  \"05_How are you?(formal)_Wie geht es lhnen?_slow.mp3\",\n",
    "    # 6.1:  \"06_How are you?(informal)_Wie geht es dir?_fast.mp3\",\n",
    "    # 6.2:  \"06_How are you?(informal)_Wie geht es dir?_slow.mp3\",\n",
    "    # 7:  \"07_What's up_Alles klar?.mp3\",\n",
    "    # 8:  \"08_How's it going?_Wie get's?.mp3\",\n",
    "    # 9:  \"09_I'm fine. Thank you._Gut, danke.mp3\",\n",
    "    # 7:  \"07_What's up_Alles klar?.mp3\",\n",
    "    }\n"
   ]
  },
  {
   "cell_type": "code",
   "execution_count": 28,
   "metadata": {
    "notebookRunGroups": {
     "groupValue": "1"
    }
   },
   "outputs": [],
   "source": [
    "# cut 6\n",
    "manual_edit: dict[int|float, list[int]] = {\n",
    "    129:  (467_000 , 469_500),\n",
    "    164:  (572_000 , 573_000),\n",
    "    202:  (712_000 , 715_000),\n",
    "    # 4:  (63_000 , 65_000),\n",
    "    # 5.1:  (77_000 , 80_000),\n",
    "    # 5.2:  (80_000 , 85_000),\n",
    "    # 6.1:  (96_000 , 99_000),\n",
    "    # 6.2:  (99_000 , 104_000),\n",
    "    # 7:  (112_000 , 114_000),\n",
    "    # 8:  (126_000 , 129_000),\n",
    "    # 9:  (142_000 , 145_000),\n",
    "\n",
    "    \n",
    "    }\n",
    "manual_index = max(manual_edit.keys())\n",
    "\n",
    "# manual_index = 10.2"
   ]
  },
  {
   "cell_type": "code",
   "execution_count": 25,
   "metadata": {
    "notebookRunGroups": {
     "groupValue": "1"
    }
   },
   "outputs": [],
   "source": [
    "# if your index is higher than it would crash your kernel\n",
    "if manual_edit[manual_index][0] > manual_edit[manual_index][1]:\n",
    "    raise Exception(f\"check your index make sure first index is less than second index\")\n",
    "\n",
    "test_audio02 = audio[manual_edit[manual_index][0] : manual_edit[manual_index][1]]\n",
    "play(test_audio02)\n",
    "# test_audio02\n"
   ]
  },
  {
   "cell_type": "code",
   "execution_count": 66,
   "metadata": {},
   "outputs": [
    {
     "name": "stderr",
     "output_type": "stream",
     "text": [
      "100%|██████████| 10/10 [00:03<00:00,  3.24it/s]\n"
     ]
    }
   ],
   "source": [
    "# play(chunks[audio_index])\n",
    "vt.export_audio(audio, manual_edit, output_names,output_folder=OUTPUT_FOLDER)\n",
    "\n",
    "# plot_loudness(segment)\n"
   ]
  }
 ],
 "metadata": {
  "kernelspec": {
   "display_name": "eleven_labs",
   "language": "python",
   "name": "python3"
  },
  "language_info": {
   "codemirror_mode": {
    "name": "ipython",
    "version": 3
   },
   "file_extension": ".py",
   "mimetype": "text/x-python",
   "name": "python",
   "nbconvert_exporter": "python",
   "pygments_lexer": "ipython3",
   "version": "3.11.5"
  },
  "orig_nbformat": 4
 },
 "nbformat": 4,
 "nbformat_minor": 2
}
