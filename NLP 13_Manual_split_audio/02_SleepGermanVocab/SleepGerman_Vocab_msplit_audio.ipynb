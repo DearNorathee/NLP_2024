{
 "cells": [
  {
   "cell_type": "code",
   "execution_count": 1,
   "metadata": {
    "notebookRunGroups": {
     "groupValue": "1"
    }
   },
   "outputs": [],
   "source": [
    "from pydub import AudioSegment\n",
    "from pydub.silence import split_on_silence\n",
    "from pydub.playback import play\n",
    "from pydub.silence import detect_nonsilent\n",
    "from playsound import playsound\n",
    "import py_string_tool as pst\n",
    "from typing import Union,Dict,Tuple, List, Literal\n",
    "import python_wizard as pw\n",
    "import video_toolkit as vt\n"
   ]
  },
  {
   "cell_type": "code",
   "execution_count": 2,
   "metadata": {
    "notebookRunGroups": {
     "groupValue": "1"
    }
   },
   "outputs": [],
   "source": [
    "# def text_to_milisecond(time_text:Union[str,int,float],delimiter:str = \".\") -> Union[int,float]:\n",
    "#     \"\"\"\n",
    "#     time_text should be seperated by dot for \n",
    "#     convert strings to miliseconds to easily convert back and forth between video view and pydub input\n",
    "#     if it's already int it would return the same\n",
    "    \n",
    "#     Convert time text to milliseconds.\n",
    "\n",
    "#     Args:\n",
    "#     time_text (Union[str, int, float]): Time in format \"hr.min.sec\" or \"min.sec\" or milliseconds.\n",
    "\n",
    "#     Returns:\n",
    "#     Union[int, float]: Time in milliseconds.\n",
    "\n",
    "#     Examples:\n",
    "#     \"4.32\" => (4*60 + 32) * 1000 = 272000 ms (4 min 32 sec)\n",
    "#     \"1.40.32\" => (1*3600 + 40*60 + 32) * 1000 = 6032000 ms (1 hr 40 min 32 sec)\n",
    "#     \"\"\"\n",
    "#     if isinstance(time_text, (int, float)):\n",
    "#         return time_text\n",
    "\n",
    "#     if not isinstance(time_text, str):\n",
    "#         raise ValueError(\"Input must be a string, int, or float.\")\n",
    "\n",
    "#     parts = time_text.split(delimiter)\n",
    "    \n",
    "#     if len(parts) == 2:\n",
    "#         minutes, seconds = map(int, parts)\n",
    "#         return (minutes * 60 + seconds) * 1000\n",
    "#     elif len(parts) == 3:\n",
    "#         hours, minutes, seconds = map(int, parts)\n",
    "#         return (hours * 3600 + minutes * 60 + seconds) * 1000\n",
    "#     else:\n",
    "#         raise ValueError(\"Invalid time format. Use 'min.sec' or 'hr.min.sec'.\")\n",
    "\n",
    "# def ms_to_time_text(milliseconds: Union[int, float]) -> str:\n",
    "#     \"\"\"\n",
    "#     Convert milliseconds to time text format.\n",
    "\n",
    "#     Args:\n",
    "#     milliseconds (Union[int, float]): Time in milliseconds.\n",
    "\n",
    "#     Returns:\n",
    "#     str: Time in format \"hr.min.sec\" or \"min.sec\".\n",
    "\n",
    "#     Examples:\n",
    "#     272000 => \"4.32\" (4 min 32 sec)\n",
    "#     6032000 => \"1.40.32\" (1 hr 40 min 32 sec)\n",
    "#     \"\"\"\n",
    "#     if not isinstance(milliseconds, (int, float)):\n",
    "#         raise ValueError(\"Input must be an integer or float representing milliseconds.\")\n",
    "\n",
    "#     total_seconds = int(milliseconds / 1000)\n",
    "#     hours, remainder = divmod(total_seconds, 3600)\n",
    "#     minutes, seconds = divmod(remainder, 60)\n",
    "\n",
    "#     if hours > 0:\n",
    "#         return f\"{hours}.{minutes:02d}.{seconds:02d}\"\n",
    "#     else:\n",
    "#         return f\"{minutes}.{seconds:02d}\"\n",
    "    \n",
    "\n",
    "# def export_audio(audio_segment:AudioSegment,\n",
    "#                  start_end_time_dict: Dict[int,Tuple[int,int]],\n",
    "#                  output_names:Dict[int,str],\n",
    "#                  output_folder:str = \"\",\n",
    "#                  progressbar:bool = True,\n",
    "#                  ) -> None:\n",
    "    \n",
    "#     # medium tested\n",
    "#     \"\"\"\n",
    "#     Key feature: \n",
    "#         1) Remove the invalid path in output_names automatically\n",
    "#     the timestamp should be in miliseconds units(for now)\n",
    "\n",
    "    \n",
    "#     export multiple audio_segments\n",
    "#     make sure that index in output_names is also in start_end_time_dict\n",
    "\n",
    "#     # example of start_end_time_dict\n",
    "#     start_end_time_dict = {\n",
    "#         6:  [14_633 , 15_933],\n",
    "#         7:  [24_455 , 25_534],\n",
    "#         8:  [25_700 , 27_550],\n",
    "#         9:  [27_899 , 30_000],\n",
    "#         10: [31_075 , 32_863],\n",
    "#         11: [33_439 , 36_188],\n",
    "#         12: [37_280 , 42_100],\n",
    "#         14: [42_865 , 47_224],\n",
    "        \n",
    "    \n",
    "#     TOADD: replace => it would check if file already exists, if so depending on it's True or False, it would replace the file\n",
    "#     \"\"\"\n",
    "#     import py_string_tool as pst\n",
    "#     clean_output_names = {}\n",
    "#     for inx, output_name in output_names.items():\n",
    "#         clean_output_names[inx] = pst.clean_filename(output_name)\n",
    "    \n",
    "#     from tqdm import tqdm\n",
    "#     if progressbar:\n",
    "#         loop_obj = tqdm(start_end_time_dict.items())\n",
    "#     else:\n",
    "#         loop_obj = start_end_time_dict.items()\n",
    "    \n",
    "#     for inx, time_stamp in loop_obj:\n",
    "#         start_time, end_time = time_stamp\n",
    "#         try:\n",
    "#             output_name = clean_output_names[inx]\n",
    "#         except KeyError:\n",
    "#             raise KeyError(f\"there's no index {inx} in your output_names(Dict). Please check your index again.\")\n",
    "#         output_path = output_folder + \"/\" + output_name\n",
    "#         curr_audio = audio_segment[start_time:end_time]\n",
    "        \n",
    "#         try:\n",
    "#             curr_audio.export(output_path)\n",
    "#         except PermissionError:\n",
    "#             raise KeyError(f\"Please close the file {output_path} first.\")\n",
    "            \n",
    "    \n",
    "    "
   ]
  },
  {
   "cell_type": "code",
   "execution_count": 3,
   "metadata": {
    "notebookRunGroups": {
     "groupValue": "1"
    }
   },
   "outputs": [
    {
     "name": "stderr",
     "output_type": "stream",
     "text": [
      "<>:5: SyntaxWarning: invalid escape sequence '\\M'\n",
      "<>:5: SyntaxWarning: invalid escape sequence '\\M'\n",
      "C:\\Users\\Heng2020\\AppData\\Local\\Temp\\ipykernel_18692\\2135258663.py:5: SyntaxWarning: invalid escape sequence '\\M'\n",
      "  OUTPUT_FOLDER:str = \"G:\\My Drive\\G_Videos\\Learn French\\Pydub Export test01\"\n"
     ]
    }
   ],
   "source": [
    "def test_export_audio():\n",
    "    filepath = r\"G:\\My Drive\\G_Videos\\Learn French\\Learn to speak French in 5 minutes - a dialogue for beginners!.mp3\"\n",
    "    audio = AudioSegment.from_file(filepath) \n",
    "\n",
    "    OUTPUT_FOLDER:str = \"G:\\My Drive\\G_Videos\\Learn French\\Pydub Export test01\"\n",
    "\n",
    "    start_time = 35 * 1000  # Start at 35 seconds\n",
    "    end_time = (1*60 + 35) * 1000    # End at 1 minute and 35 seconds\n",
    "    \n",
    "    manual_edit = {\n",
    "        6:  [14_633 , 15_933],\n",
    "        7:  [24_455 , 25_534],\n",
    "        8:  [25_700 , 27_550],\n",
    "        9:  [27_899 , 30_000],\n",
    "        10: [31_075 , 32_863],\n",
    "        11: [33_439 , 36_188],\n",
    "        12: [37_280 , 42_100],\n",
    "        14: [42_865 , 47_224],\n",
    "        \n",
    "        }\n",
    "    \n",
    "    # output_names01 has no index 10\n",
    "    output_names01 = {\n",
    "        6:  \"01.01_I'm....mp3\",\n",
    "        7:  \"01.02_Pleased to meet you.mp3\",\n",
    "        8:  \"01.03_That's a nice name.mp3\",\n",
    "        9:  \"01.05_Can I ask you a question?.mp3\",\n",
    "        11: \"01.06_What do you like to do on a weekend?.mp3\",\n",
    "        12: \"01.07_I like to learn French and read and you?.mp3\",\n",
    "        14: \"01.08_I like to watch television.mp3\",\n",
    "        \n",
    "        }\n",
    "    \n",
    "    output_names02 = {\n",
    "        6:  \"01.01_I'm....mp3\",\n",
    "        7:  \"01.02_Pleased to meet you.mp3\",\n",
    "        8:  \"01.03_That's a nice name.mp3\",\n",
    "        9:  \"01.05_Can I ask you a question?.mp3\",\n",
    "        10: \"01.07_Yes, of course.mp3\",\n",
    "        11: \"01.08_What do you like to do on a weekend?.mp3\",\n",
    "        12: \"01.09_I like to learn French and read and you?.mp3\",\n",
    "        14: \"01.10_I like to watch television.mp3\",\n",
    "        \n",
    "        }\n",
    "    \n",
    "    output_names03 = {\n",
    "        6:  \"01.01_I'm....wav\",\n",
    "        7:  \"01.02_Pleased to meet you.wav\",\n",
    "        8:  \"01.03_That's a nice name.wav\",\n",
    "        9:  \"01.05_Can I ask you a question?.wav\",\n",
    "        10: \"01.07_Yes, of course.mp3\",\n",
    "        11: \"01.08_What do you like to do on a weekend?.wav\",\n",
    "        12: \"01.09_I like to learn French and read and you?.wav\",\n",
    "        14: \"01.10_I like to watch television.wav\",\n",
    "        \n",
    "        }\n",
    "    \n",
    "    # Extract the segment from the audio\n",
    "    segment = audio[start_time:end_time]\n",
    "    try:\n",
    "        export_audio(segment, manual_edit, output_names01,output_folder=OUTPUT_FOLDER)\n",
    "    except Exception as error:\n",
    "        assert isinstance(error, KeyError)\n",
    "        \n",
    "    export_audio(segment, manual_edit, output_names02,output_folder=OUTPUT_FOLDER)\n",
    "    export_audio(segment, manual_edit, output_names03,output_folder=OUTPUT_FOLDER)\n",
    "\n",
    "def test_text_to_milisecond():\n",
    "    import inspect_py as inp\n",
    "    actual01 = text_to_milisecond(\"4.32\") # Output: 272000\n",
    "    actual02 = text_to_milisecond(\"1.40.32\")  # Output: 6032000\n",
    "    actual03 = text_to_milisecond(5000)  # Output: 5000\n",
    "    \n",
    "    expect01 = 272_000\n",
    "    expect02 = 6032000\n",
    "    expect03 = 5000\n",
    "    \n",
    "    assert actual01 == expect01, inp.assert_message(actual01, expect01)\n",
    "    assert actual02 == expect02, inp.assert_message(actual02, expect02)\n",
    "    assert actual03 == expect03, inp.assert_message(actual03, expect03)\n",
    "\n",
    "# test_text_to_milisecond()\n",
    "\n",
    "# test_export_audio()"
   ]
  },
  {
   "cell_type": "code",
   "execution_count": 4,
   "metadata": {
    "notebookRunGroups": {
     "groupValue": "1"
    }
   },
   "outputs": [],
   "source": [
    "alarm_path = r\"H:\\D_Music\\Sound Effect positive-logo-opener.mp3\"\n",
    "filepath = r\"G:\\My Drive\\G_Videos\\Learn German\\02_Sleep Vocab\\SleepGerman3HR.mp3\"\n",
    "OUTPUT_FOLDER:str = r\"G:\\My Drive\\G_Videos\\Learn German\\02_Sleep Vocab\\Splitted Audio\""
   ]
  },
  {
   "cell_type": "code",
   "execution_count": 5,
   "metadata": {},
   "outputs": [],
   "source": [
    "# took about 2 min\n",
    "audio = AudioSegment.from_file(filepath) "
   ]
  },
  {
   "cell_type": "code",
   "execution_count": 3,
   "metadata": {},
   "outputs": [],
   "source": [
    "start_time = 35 * 1000  # Start at 35 seconds\n",
    "end_time = (1*60 + 35) * 1000    # End at 1 minute and 35 seconds\n"
   ]
  },
  {
   "cell_type": "code",
   "execution_count": 4,
   "metadata": {},
   "outputs": [
    {
     "data": {
      "text/plain": [
       "'0.28'"
      ]
     },
     "execution_count": 4,
     "metadata": {},
     "output_type": "execute_result"
    }
   ],
   "source": [
    "time_in_ms:int = 28_000\n",
    "vt.ms_to_time_text(time_in_ms)"
   ]
  },
  {
   "cell_type": "code",
   "execution_count": 20,
   "metadata": {},
   "outputs": [
    {
     "name": "stdout",
     "output_type": "stream",
     "text": [
      "50_000\n",
      "52_000\n"
     ]
    }
   ],
   "source": [
    "time_in_str:str = \".50\"\n",
    "vt.text_to_milisecond(time_in_str)\n",
    "print(f\"{vt.text_to_milisecond(time_in_str):_}\")\n",
    "print(f\"{vt.text_to_milisecond(time_in_str)+2000:_}\")"
   ]
  },
  {
   "cell_type": "code",
   "execution_count": 36,
   "metadata": {
    "notebookRunGroups": {
     "groupValue": "2"
    }
   },
   "outputs": [],
   "source": [
    "output_names = {\n",
    "    1:  \"01_Good Morning_Guten morgen.mp3\",\n",
    "    2:  \"02_Good Afternoon_Guten tag.mp3\",\n",
    "    3:  \"03_Good Evening_Guten Abend.mp3\",\n",
    "    4:  \"04_Good Night_Guten Nacht.mp3\",\n",
    "\n",
    "    \n",
    "    }\n"
   ]
  },
  {
   "cell_type": "code",
   "execution_count": 37,
   "metadata": {
    "notebookRunGroups": {
     "groupValue": "1"
    }
   },
   "outputs": [],
   "source": [
    "# cut 6\n",
    "manual_edit = {\n",
    "    1:  [29_000 , 31_000],\n",
    "    2:  [39_000 , 42_000],\n",
    "    3:  [51_500 , 53_000],\n",
    "    # 4:  [29_000 , 31_000],\n",
    "    # 5:  [29_000 , 31_000],\n",
    "    # 6:  [29_000 , 31_000],\n",
    "\n",
    "    \n",
    "    }\n",
    "manual_index = max(manual_edit.keys())\n",
    "\n",
    "# manual_index = 10.2"
   ]
  },
  {
   "cell_type": "code",
   "execution_count": 35,
   "metadata": {
    "notebookRunGroups": {
     "groupValue": "1"
    }
   },
   "outputs": [
    {
     "data": {
      "text/html": [
       "\n",
       "                    <audio controls>\n",
       "                        <source src=\"data:audio/mpeg;base64,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\" type=\"audio/mpeg\"/>\n",
       "                        Your browser does not support the audio element.\n",
       "                    </audio>\n",
       "                  "
      ],
      "text/plain": [
       "<pydub.audio_segment.AudioSegment at 0x1990199ab40>"
      ]
     },
     "execution_count": 35,
     "metadata": {},
     "output_type": "execute_result"
    }
   ],
   "source": [
    "# if your index is higher than it would crash your kernel\n",
    "if manual_edit[manual_index][0] > manual_edit[manual_index][1]:\n",
    "    raise Exception(f\"check your index make sure first index is less than second index\")\n",
    "\n",
    "test_audio02 = audio[manual_edit[manual_index][0] : manual_edit[manual_index][1]]\n",
    "# play(test_audio02)\n",
    "test_audio02\n"
   ]
  },
  {
   "cell_type": "code",
   "execution_count": 296,
   "metadata": {},
   "outputs": [
    {
     "name": "stderr",
     "output_type": "stream",
     "text": [
      "100%|██████████| 18/18 [00:04<00:00,  4.15it/s]\n"
     ]
    }
   ],
   "source": [
    "# play(chunks[audio_index])\n",
    "vt.export_audio(audio, manual_edit, output_names,output_folder=OUTPUT_FOLDER)\n",
    "\n",
    "# plot_loudness(segment)\n"
   ]
  }
 ],
 "metadata": {
  "kernelspec": {
   "display_name": "eleven_labs",
   "language": "python",
   "name": "python3"
  },
  "language_info": {
   "codemirror_mode": {
    "name": "ipython",
    "version": 3
   },
   "file_extension": ".py",
   "mimetype": "text/x-python",
   "name": "python",
   "nbconvert_exporter": "python",
   "pygments_lexer": "ipython3",
   "version": "3.12.4"
  },
  "orig_nbformat": 4
 },
 "nbformat": 4,
 "nbformat_minor": 2
}
