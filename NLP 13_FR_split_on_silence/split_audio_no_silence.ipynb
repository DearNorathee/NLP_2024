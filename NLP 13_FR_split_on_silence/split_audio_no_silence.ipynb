{
 "cells": [
  {
   "cell_type": "code",
   "execution_count": 1,
   "metadata": {
    "notebookRunGroups": {
     "groupValue": "1"
    }
   },
   "outputs": [],
   "source": [
    "from pydub import AudioSegment\n",
    "from pydub.silence import split_on_silence\n",
    "from pydub.playback import play\n",
    "from pydub.silence import detect_nonsilent\n",
    "from playsound import playsound\n",
    "import py_string_tool as pst\n",
    "from typing import *\n",
    "import python_wizard as pw\n"
   ]
  },
  {
   "cell_type": "code",
   "execution_count": 2,
   "metadata": {
    "notebookRunGroups": {
     "groupValue": "1"
    }
   },
   "outputs": [],
   "source": [
    "def text_to_milisecond(time_text:Union[str,int,float],delimiter:str = \".\") -> Union[int,float]:\n",
    "    \"\"\"\n",
    "    time_text should be seperated by dot for \n",
    "    convert strings to miliseconds to easily convert back and forth between video view and pydub input\n",
    "    if it's already int it would return the same\n",
    "    \n",
    "    Convert time text to milliseconds.\n",
    "\n",
    "    Args:\n",
    "    time_text (Union[str, int, float]): Time in format \"hr.min.sec\" or \"min.sec\" or milliseconds.\n",
    "\n",
    "    Returns:\n",
    "    Union[int, float]: Time in milliseconds.\n",
    "\n",
    "    Examples:\n",
    "    \"4.32\" => (4*60 + 32) * 1000 = 272000 ms (4 min 32 sec)\n",
    "    \"1.40.32\" => (1*3600 + 40*60 + 32) * 1000 = 6032000 ms (1 hr 40 min 32 sec)\n",
    "    \"\"\"\n",
    "    if isinstance(time_text, (int, float)):\n",
    "        return time_text\n",
    "\n",
    "    if not isinstance(time_text, str):\n",
    "        raise ValueError(\"Input must be a string, int, or float.\")\n",
    "\n",
    "    parts = time_text.split(delimiter)\n",
    "    \n",
    "    if len(parts) == 2:\n",
    "        minutes, seconds = map(int, parts)\n",
    "        return (minutes * 60 + seconds) * 1000\n",
    "    elif len(parts) == 3:\n",
    "        hours, minutes, seconds = map(int, parts)\n",
    "        return (hours * 3600 + minutes * 60 + seconds) * 1000\n",
    "    else:\n",
    "        raise ValueError(\"Invalid time format. Use 'min.sec' or 'hr.min.sec'.\")\n",
    "\n",
    "def ms_to_time_text(milliseconds: Union[int, float]) -> str:\n",
    "    \"\"\"\n",
    "    Convert milliseconds to time text format.\n",
    "\n",
    "    Args:\n",
    "    milliseconds (Union[int, float]): Time in milliseconds.\n",
    "\n",
    "    Returns:\n",
    "    str: Time in format \"hr.min.sec\" or \"min.sec\".\n",
    "\n",
    "    Examples:\n",
    "    272000 => \"4.32\" (4 min 32 sec)\n",
    "    6032000 => \"1.40.32\" (1 hr 40 min 32 sec)\n",
    "    \"\"\"\n",
    "    if not isinstance(milliseconds, (int, float)):\n",
    "        raise ValueError(\"Input must be an integer or float representing milliseconds.\")\n",
    "\n",
    "    total_seconds = int(milliseconds / 1000)\n",
    "    hours, remainder = divmod(total_seconds, 3600)\n",
    "    minutes, seconds = divmod(remainder, 60)\n",
    "\n",
    "    if hours > 0:\n",
    "        return f\"{hours}.{minutes:02d}.{seconds:02d}\"\n",
    "    else:\n",
    "        return f\"{minutes}.{seconds:02d}\"\n",
    "    \n",
    "\n",
    "def export_audio(audio_segment:AudioSegment,\n",
    "                 start_end_time_dict: Dict[int,Tuple[int,int]],\n",
    "                 output_names:Dict[int,str],\n",
    "                 output_folder:str = \"\",\n",
    "                 progressbar:bool = True,\n",
    "                 ) -> None:\n",
    "    \n",
    "    # medium tested\n",
    "    \"\"\"\n",
    "    Key feature: \n",
    "        1) Remove the invalid path in output_names automatically\n",
    "    the timestamp should be in miliseconds units(for now)\n",
    "\n",
    "    \n",
    "    export multiple audio_segments\n",
    "    make sure that index in output_names is also in start_end_time_dict\n",
    "\n",
    "    # example of start_end_time_dict\n",
    "    start_end_time_dict = {\n",
    "        6:  [14_633 , 15_933],\n",
    "        7:  [24_455 , 25_534],\n",
    "        8:  [25_700 , 27_550],\n",
    "        9:  [27_899 , 30_000],\n",
    "        10: [31_075 , 32_863],\n",
    "        11: [33_439 , 36_188],\n",
    "        12: [37_280 , 42_100],\n",
    "        14: [42_865 , 47_224],\n",
    "        \n",
    "    \n",
    "    TOADD: replace => it would check if file already exists, if so depending on it's True or False, it would replace the file\n",
    "    \"\"\"\n",
    "    import py_string_tool as pst\n",
    "    clean_output_names = {}\n",
    "    for inx, output_name in output_names.items():\n",
    "        clean_output_names[inx] = pst.clean_filename(output_name)\n",
    "    \n",
    "    from tqdm import tqdm\n",
    "    if progressbar:\n",
    "        loop_obj = tqdm(start_end_time_dict.items())\n",
    "    else:\n",
    "        loop_obj = start_end_time_dict.items()\n",
    "    \n",
    "    for inx, time_stamp in loop_obj:\n",
    "        start_time, end_time = time_stamp\n",
    "        try:\n",
    "            output_name = clean_output_names[inx]\n",
    "        except KeyError:\n",
    "            raise KeyError(f\"there's no index {inx} in your output_names(Dict). Please check your index again.\")\n",
    "        output_path = output_folder + \"/\" + output_name\n",
    "        curr_audio = audio_segment[start_time:end_time]\n",
    "        \n",
    "        try:\n",
    "            curr_audio.export(output_path)\n",
    "        except PermissionError:\n",
    "            raise KeyError(f\"Please close the file {output_path} first.\")\n",
    "            \n",
    "    \n",
    "    "
   ]
  },
  {
   "cell_type": "code",
   "execution_count": 3,
   "metadata": {
    "notebookRunGroups": {
     "groupValue": "1"
    }
   },
   "outputs": [],
   "source": [
    "def test_export_audio():\n",
    "    filepath = r\"G:\\My Drive\\G_Videos\\Learn French\\Learn to speak French in 5 minutes - a dialogue for beginners!.mp3\"\n",
    "    audio = AudioSegment.from_file(filepath) \n",
    "\n",
    "    OUTPUT_FOLDER:str = \"G:\\My Drive\\G_Videos\\Learn French\\Pydub Export test01\"\n",
    "\n",
    "    start_time = 35 * 1000  # Start at 35 seconds\n",
    "    end_time = (1*60 + 35) * 1000    # End at 1 minute and 35 seconds\n",
    "    \n",
    "    manual_edit = {\n",
    "        6:  [14_633 , 15_933],\n",
    "        7:  [24_455 , 25_534],\n",
    "        8:  [25_700 , 27_550],\n",
    "        9:  [27_899 , 30_000],\n",
    "        10: [31_075 , 32_863],\n",
    "        11: [33_439 , 36_188],\n",
    "        12: [37_280 , 42_100],\n",
    "        14: [42_865 , 47_224],\n",
    "        \n",
    "        }\n",
    "    \n",
    "    # output_names01 has no index 10\n",
    "    output_names01 = {\n",
    "        6:  \"01.01_I'm....mp3\",\n",
    "        7:  \"01.02_Pleased to meet you.mp3\",\n",
    "        8:  \"01.03_That's a nice name.mp3\",\n",
    "        9:  \"01.05_Can I ask you a question?.mp3\",\n",
    "        11: \"01.06_What do you like to do on a weekend?.mp3\",\n",
    "        12: \"01.07_I like to learn French and read and you?.mp3\",\n",
    "        14: \"01.08_I like to watch television.mp3\",\n",
    "        \n",
    "        }\n",
    "    \n",
    "    output_names02 = {\n",
    "        6:  \"01.01_I'm....mp3\",\n",
    "        7:  \"01.02_Pleased to meet you.mp3\",\n",
    "        8:  \"01.03_That's a nice name.mp3\",\n",
    "        9:  \"01.05_Can I ask you a question?.mp3\",\n",
    "        10: \"01.07_Yes, of course.mp3\",\n",
    "        11: \"01.08_What do you like to do on a weekend?.mp3\",\n",
    "        12: \"01.09_I like to learn French and read and you?.mp3\",\n",
    "        14: \"01.10_I like to watch television.mp3\",\n",
    "        \n",
    "        }\n",
    "    \n",
    "    output_names03 = {\n",
    "        6:  \"01.01_I'm....wav\",\n",
    "        7:  \"01.02_Pleased to meet you.wav\",\n",
    "        8:  \"01.03_That's a nice name.wav\",\n",
    "        9:  \"01.05_Can I ask you a question?.wav\",\n",
    "        10: \"01.07_Yes, of course.mp3\",\n",
    "        11: \"01.08_What do you like to do on a weekend?.wav\",\n",
    "        12: \"01.09_I like to learn French and read and you?.wav\",\n",
    "        14: \"01.10_I like to watch television.wav\",\n",
    "        \n",
    "        }\n",
    "    \n",
    "    # Extract the segment from the audio\n",
    "    segment = audio[start_time:end_time]\n",
    "    try:\n",
    "        export_audio(segment, manual_edit, output_names01,output_folder=OUTPUT_FOLDER)\n",
    "    except Exception as error:\n",
    "        assert isinstance(error, KeyError)\n",
    "        \n",
    "    export_audio(segment, manual_edit, output_names02,output_folder=OUTPUT_FOLDER)\n",
    "    export_audio(segment, manual_edit, output_names03,output_folder=OUTPUT_FOLDER)\n",
    "\n",
    "def test_text_to_milisecond():\n",
    "    import inspect_py as inp\n",
    "    actual01 = text_to_milisecond(\"4.32\") # Output: 272000\n",
    "    actual02 = text_to_milisecond(\"1.40.32\")  # Output: 6032000\n",
    "    actual03 = text_to_milisecond(5000)  # Output: 5000\n",
    "    \n",
    "    expect01 = 272_000\n",
    "    expect02 = 6032000\n",
    "    expect03 = 5000\n",
    "    \n",
    "    assert actual01 == expect01, inp.assert_message(actual01, expect01)\n",
    "    assert actual02 == expect02, inp.assert_message(actual02, expect02)\n",
    "    assert actual03 == expect03, inp.assert_message(actual03, expect03)\n",
    "\n",
    "# test_text_to_milisecond()\n",
    "\n",
    "# test_export_audio()"
   ]
  },
  {
   "cell_type": "code",
   "execution_count": 5,
   "metadata": {
    "notebookRunGroups": {
     "groupValue": "1"
    }
   },
   "outputs": [],
   "source": [
    "alarm_path = r\"H:\\D_Music\\Sound Effect positive-logo-opener.mp3\"\n",
    "\n",
    "filepath = r\"G:\\My Drive\\G_Downloads\\Ebook\\2024\\Pimsleur - French - Complete Course\\Pimsleur - French I\\Pimsleur - French I - Lesson 03.mp3\"\n",
    "audio = AudioSegment.from_file(filepath) \n",
    "\n",
    "OUTPUT_FOLDER:str = \"G:\\My Drive\\G_Videos\\Learn French\\Pimsleur\\French 1\\Lesson 03\"\n"
   ]
  },
  {
   "cell_type": "code",
   "execution_count": 5,
   "metadata": {},
   "outputs": [],
   "source": [
    "start_time = 35 * 1000  # Start at 35 seconds\n",
    "end_time = (1*60 + 35) * 1000    # End at 1 minute and 35 seconds\n"
   ]
  },
  {
   "cell_type": "code",
   "execution_count": null,
   "metadata": {},
   "outputs": [],
   "source": [
    "# Extract the segment from the audio\n",
    "segment = audio[start_time:end_time]\n",
    "\n",
    "chunks = split_on_silence(segment,min_silence_len=700,\n",
    "    # -25 is good\n",
    "    silence_thresh=-30,\n",
    "    # keep 200 milliseconds of leading/trailing silence\n",
    "    keep_silence=200\n",
    ")\n",
    "playsound(alarm_path)\n"
   ]
  },
  {
   "cell_type": "code",
   "execution_count": null,
   "metadata": {},
   "outputs": [],
   "source": [
    "time_chucks = detect_nonsilent(segment,min_silence_len=700,\n",
    "    # -25 is good\n",
    "    silence_thresh=-30,\n",
    "\n",
    ")\n",
    "playsound(alarm_path)\n"
   ]
  },
  {
   "cell_type": "code",
   "execution_count": 6,
   "metadata": {},
   "outputs": [
    {
     "ename": "NameError",
     "evalue": "name 'time_chucks' is not defined",
     "output_type": "error",
     "traceback": [
      "\u001b[1;31m---------------------------------------------------------------------------\u001b[0m",
      "\u001b[1;31mNameError\u001b[0m                                 Traceback (most recent call last)",
      "Cell \u001b[1;32mIn[6], line 2\u001b[0m\n\u001b[0;32m      1\u001b[0m audio_index \u001b[39m=\u001b[39m \u001b[39m16\u001b[39m\n\u001b[1;32m----> 2\u001b[0m start_time_test \u001b[39m=\u001b[39m time_chucks[audio_index][\u001b[39m0\u001b[39m]\n\u001b[0;32m      3\u001b[0m end_time_test \u001b[39m=\u001b[39m time_chucks[audio_index][\u001b[39m1\u001b[39m]\n\u001b[0;32m      5\u001b[0m formatted_start \u001b[39m=\u001b[39m \u001b[39mf\u001b[39m\u001b[39m\"\u001b[39m\u001b[39m{\u001b[39;00mstart_time_test\u001b[39m \u001b[39m\u001b[39m/\u001b[39m\u001b[39m/\u001b[39m\u001b[39m \u001b[39m\u001b[39m1000\u001b[39m\u001b[39m}\u001b[39;00m\u001b[39m_\u001b[39m\u001b[39m{\u001b[39;00mstart_time_test\u001b[39m \u001b[39m\u001b[39m%\u001b[39m\u001b[39m \u001b[39m\u001b[39m1000\u001b[39m\u001b[39m:\u001b[39;00m\u001b[39m03d\u001b[39m\u001b[39m}\u001b[39;00m\u001b[39m\"\u001b[39m\n",
      "\u001b[1;31mNameError\u001b[0m: name 'time_chucks' is not defined"
     ]
    }
   ],
   "source": [
    "audio_index = 16\n",
    "start_time_test = time_chucks[audio_index][0]\n",
    "end_time_test = time_chucks[audio_index][1]\n",
    "\n",
    "formatted_start = f\"{start_time_test // 1000}_{start_time_test % 1000:03d}\"\n",
    "formatted_end = f\"{end_time_test // 1000}_{end_time_test % 1000:03d}\"\n",
    "\n",
    "print(f\"{formatted_start} : {formatted_end}\")\n",
    "test_audio = segment[start_time_test:end_time_test]\n",
    "play(test_audio)\n",
    "\n",
    "# Done til audio_index = 14\n",
    "# merge 7 & 8"
   ]
  },
  {
   "cell_type": "code",
   "execution_count": 7,
   "metadata": {},
   "outputs": [
    {
     "data": {
      "text/plain": [
       "'9.49'"
      ]
     },
     "execution_count": 7,
     "metadata": {},
     "output_type": "execute_result"
    }
   ],
   "source": [
    "time_in_ms:int = 589_000\n",
    "ms_to_time_text(time_in_ms)"
   ]
  },
  {
   "cell_type": "code",
   "execution_count": 8,
   "metadata": {},
   "outputs": [
    {
     "name": "stdout",
     "output_type": "stream",
     "text": [
      "590_000\n",
      "592_000\n"
     ]
    }
   ],
   "source": [
    "time_in_str:str = \"9.50\"\n",
    "text_to_milisecond(time_in_str)\n",
    "print(f\"{text_to_milisecond(time_in_str):_}\")\n",
    "print(f\"{text_to_milisecond(time_in_str)+2000:_}\")"
   ]
  },
  {
   "cell_type": "code",
   "execution_count": 12,
   "metadata": {
    "notebookRunGroups": {
     "groupValue": "2"
    }
   },
   "outputs": [],
   "source": [
    "output_names = {\n",
    "    12:  \"12_Are you American Ms(f)?.mp3\",\n",
    "    13:  \"13_I'm American(m).mp3\",\n",
    "    14:  \"14_I'm American(f).mp3\",\n",
    "    15:  \"15_I'm French(m).mp3\",\n",
    "    16:  \"16_I'm French(f)'.mp3\",\n",
    "    # 17:  \"17_Good Bye.mp3\",\n",
    "    # 18:  \"18_Not Very well.mp3\",\n",
    "    # 19:  \"19_American(f).mp3\",\n",
    "    # 20:  \"10_American_justEnding(m vs f)..mp3\",\n",
    "    # 21:  \"11_American_(m vs f).mp3\",\n",
    "    # 22:  \"12_Can you understand French?.mp3\",\n",
    "    \n",
    "    }\n"
   ]
  },
  {
   "cell_type": "code",
   "execution_count": 13,
   "metadata": {
    "notebookRunGroups": {
     "groupValue": "2"
    }
   },
   "outputs": [],
   "source": [
    "# cut 6\n",
    "manual_edit = {\n",
    "    12:  [439_000 , 441_300],\n",
    "    13:  [524_500 , 526_000],\n",
    "    14:  [580_000 , 581_500],\n",
    "    15:  [590_300 , 591_500],\n",
    "    16:  [205_000 , 207_000],\n",
    "    # 17: [235_500 , 237_000],\n",
    "    # 18: [270_000 , 271_300],\n",
    "    # 19: [356_000 , 358_000],\n",
    "    # 20: [389_000 , 391_000],\n",
    "    # 21: [394_000 , 396_500],\n",
    "    \n",
    "    }\n",
    "manual_index = len(manual_edit) + 11\n",
    "# manual_index = 14"
   ]
  },
  {
   "cell_type": "code",
   "execution_count": 14,
   "metadata": {
    "notebookRunGroups": {
     "groupValue": "2"
    }
   },
   "outputs": [],
   "source": [
    "# if your index is higher than it would crash your kernel\n",
    "if manual_edit[manual_index][0] > manual_edit[manual_index][1]:\n",
    "    raise Exception(f\"check your index make sure first index is less than second index\")\n",
    "\n",
    "test_audio02 = audio[manual_edit[manual_index][0] : manual_edit[manual_index][1]]\n",
    "play(test_audio02)\n"
   ]
  },
  {
   "cell_type": "code",
   "execution_count": 276,
   "metadata": {},
   "outputs": [],
   "source": [
    "# if your index is higher than it would crash your kernel\n",
    "if manual_edit[manual_index][0] > manual_edit[manual_index][1]:\n",
    "    raise Exception(f\"check your index make sure first index is less than second index\")\n",
    "\n",
    "test_audio02 = audio[manual_edit[manual_index][0] : manual_edit[manual_index][1]]\n",
    "play(test_audio02)"
   ]
  },
  {
   "cell_type": "code",
   "execution_count": 37,
   "metadata": {},
   "outputs": [
    {
     "name": "stderr",
     "output_type": "stream",
     "text": [
      "100%|██████████| 5/5 [00:01<00:00,  3.51it/s]\n"
     ]
    }
   ],
   "source": [
    "# play(chunks[audio_index])\n",
    "export_audio(audio, manual_edit, output_names,output_folder=OUTPUT_FOLDER)\n",
    "\n",
    "# plot_loudness(segment)\n"
   ]
  }
 ],
 "metadata": {
  "kernelspec": {
   "display_name": "eleven_labs",
   "language": "python",
   "name": "python3"
  },
  "language_info": {
   "codemirror_mode": {
    "name": "ipython",
    "version": 3
   },
   "file_extension": ".py",
   "mimetype": "text/x-python",
   "name": "python",
   "nbconvert_exporter": "python",
   "pygments_lexer": "ipython3",
   "version": "3.11.5"
  },
  "orig_nbformat": 4
 },
 "nbformat": 4,
 "nbformat_minor": 2
}
