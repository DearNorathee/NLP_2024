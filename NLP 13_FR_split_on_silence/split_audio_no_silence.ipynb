{
 "cells": [
  {
   "cell_type": "code",
   "execution_count": 1,
   "metadata": {
    "notebookRunGroups": {
     "groupValue": "1"
    }
   },
   "outputs": [
    {
     "data": {
      "text/html": [
       "<style type='text/css'>\n",
       ".datatable table.frame { margin-bottom: 0; }\n",
       ".datatable table.frame thead { border-bottom: none; }\n",
       ".datatable table.frame tr.coltypes td {  color: #FFFFFF;  line-height: 6px;  padding: 0 0.5em;}\n",
       ".datatable .bool    { background: #DDDD99; }\n",
       ".datatable .object  { background: #565656; }\n",
       ".datatable .int     { background: #5D9E5D; }\n",
       ".datatable .float   { background: #4040CC; }\n",
       ".datatable .str     { background: #CC4040; }\n",
       ".datatable .time    { background: #40CC40; }\n",
       ".datatable .row_index {  background: var(--jp-border-color3);  border-right: 1px solid var(--jp-border-color0);  color: var(--jp-ui-font-color3);  font-size: 9px;}\n",
       ".datatable .frame tbody td { text-align: left; }\n",
       ".datatable .frame tr.coltypes .row_index {  background: var(--jp-border-color0);}\n",
       ".datatable th:nth-child(2) { padding-left: 12px; }\n",
       ".datatable .hellipsis {  color: var(--jp-cell-editor-border-color);}\n",
       ".datatable .vellipsis {  background: var(--jp-layout-color0);  color: var(--jp-cell-editor-border-color);}\n",
       ".datatable .na {  color: var(--jp-cell-editor-border-color);  font-size: 80%;}\n",
       ".datatable .sp {  opacity: 0.25;}\n",
       ".datatable .footer { font-size: 9px; }\n",
       ".datatable .frame_dimensions {  background: var(--jp-border-color3);  border-top: 1px solid var(--jp-border-color0);  color: var(--jp-ui-font-color3);  display: inline-block;  opacity: 0.6;  padding: 1px 10px 1px 5px;}\n",
       "</style>\n"
      ],
      "text/plain": [
       "<IPython.core.display.HTML object>"
      ]
     },
     "metadata": {},
     "output_type": "display_data"
    }
   ],
   "source": [
    "from pydub import AudioSegment\n",
    "from pydub.silence import split_on_silence\n",
    "from pydub.playback import play\n",
    "from pydub.silence import detect_nonsilent\n",
    "from playsound import playsound\n",
    "import py_string_tool as pst\n",
    "from typing import Union,Dict,Tuple, List, Literal\n",
    "import python_wizard as pw\n",
    "import video_toolkit as vt\n"
   ]
  },
  {
   "cell_type": "code",
   "execution_count": 2,
   "metadata": {
    "notebookRunGroups": {
     "groupValue": "1"
    }
   },
   "outputs": [],
   "source": [
    "def text_to_milisecond(time_text:Union[str,int,float],delimiter:str = \".\") -> Union[int,float]:\n",
    "    \"\"\"\n",
    "    time_text should be seperated by dot for \n",
    "    convert strings to miliseconds to easily convert back and forth between video view and pydub input\n",
    "    if it's already int it would return the same\n",
    "    \n",
    "    Convert time text to milliseconds.\n",
    "\n",
    "    Args:\n",
    "    time_text (Union[str, int, float]): Time in format \"hr.min.sec\" or \"min.sec\" or milliseconds.\n",
    "\n",
    "    Returns:\n",
    "    Union[int, float]: Time in milliseconds.\n",
    "\n",
    "    Examples:\n",
    "    \"4.32\" => (4*60 + 32) * 1000 = 272000 ms (4 min 32 sec)\n",
    "    \"1.40.32\" => (1*3600 + 40*60 + 32) * 1000 = 6032000 ms (1 hr 40 min 32 sec)\n",
    "    \"\"\"\n",
    "    if isinstance(time_text, (int, float)):\n",
    "        return time_text\n",
    "\n",
    "    if not isinstance(time_text, str):\n",
    "        raise ValueError(\"Input must be a string, int, or float.\")\n",
    "\n",
    "    parts = time_text.split(delimiter)\n",
    "    \n",
    "    if len(parts) == 2:\n",
    "        minutes, seconds = map(int, parts)\n",
    "        return (minutes * 60 + seconds) * 1000\n",
    "    elif len(parts) == 3:\n",
    "        hours, minutes, seconds = map(int, parts)\n",
    "        return (hours * 3600 + minutes * 60 + seconds) * 1000\n",
    "    else:\n",
    "        raise ValueError(\"Invalid time format. Use 'min.sec' or 'hr.min.sec'.\")\n",
    "\n",
    "def ms_to_time_text(milliseconds: Union[int, float]) -> str:\n",
    "    \"\"\"\n",
    "    Convert milliseconds to time text format.\n",
    "\n",
    "    Args:\n",
    "    milliseconds (Union[int, float]): Time in milliseconds.\n",
    "\n",
    "    Returns:\n",
    "    str: Time in format \"hr.min.sec\" or \"min.sec\".\n",
    "\n",
    "    Examples:\n",
    "    272000 => \"4.32\" (4 min 32 sec)\n",
    "    6032000 => \"1.40.32\" (1 hr 40 min 32 sec)\n",
    "    \"\"\"\n",
    "    if not isinstance(milliseconds, (int, float)):\n",
    "        raise ValueError(\"Input must be an integer or float representing milliseconds.\")\n",
    "\n",
    "    total_seconds = int(milliseconds / 1000)\n",
    "    hours, remainder = divmod(total_seconds, 3600)\n",
    "    minutes, seconds = divmod(remainder, 60)\n",
    "\n",
    "    if hours > 0:\n",
    "        return f\"{hours}.{minutes:02d}.{seconds:02d}\"\n",
    "    else:\n",
    "        return f\"{minutes}.{seconds:02d}\"\n",
    "    \n",
    "\n",
    "def export_audio(audio_segment:AudioSegment,\n",
    "                 start_end_time_dict: Dict[int,Tuple[int,int]],\n",
    "                 output_names:Dict[int,str],\n",
    "                 output_folder:str = \"\",\n",
    "                 progressbar:bool = True,\n",
    "                 ) -> None:\n",
    "    \n",
    "    # medium tested\n",
    "    \"\"\"\n",
    "    Key feature: \n",
    "        1) Remove the invalid path in output_names automatically\n",
    "    the timestamp should be in miliseconds units(for now)\n",
    "\n",
    "    \n",
    "    export multiple audio_segments\n",
    "    make sure that index in output_names is also in start_end_time_dict\n",
    "\n",
    "    # example of start_end_time_dict\n",
    "    start_end_time_dict = {\n",
    "        6:  [14_633 , 15_933],\n",
    "        7:  [24_455 , 25_534],\n",
    "        8:  [25_700 , 27_550],\n",
    "        9:  [27_899 , 30_000],\n",
    "        10: [31_075 , 32_863],\n",
    "        11: [33_439 , 36_188],\n",
    "        12: [37_280 , 42_100],\n",
    "        14: [42_865 , 47_224],\n",
    "        \n",
    "    \n",
    "    TOADD: replace => it would check if file already exists, if so depending on it's True or False, it would replace the file\n",
    "    \"\"\"\n",
    "    import py_string_tool as pst\n",
    "    clean_output_names = {}\n",
    "    for inx, output_name in output_names.items():\n",
    "        clean_output_names[inx] = pst.clean_filename(output_name)\n",
    "    \n",
    "    from tqdm import tqdm\n",
    "    if progressbar:\n",
    "        loop_obj = tqdm(start_end_time_dict.items())\n",
    "    else:\n",
    "        loop_obj = start_end_time_dict.items()\n",
    "    \n",
    "    for inx, time_stamp in loop_obj:\n",
    "        start_time, end_time = time_stamp\n",
    "        try:\n",
    "            output_name = clean_output_names[inx]\n",
    "        except KeyError:\n",
    "            raise KeyError(f\"there's no index {inx} in your output_names(Dict). Please check your index again.\")\n",
    "        output_path = output_folder + \"/\" + output_name\n",
    "        curr_audio = audio_segment[start_time:end_time]\n",
    "        \n",
    "        try:\n",
    "            curr_audio.export(output_path)\n",
    "        except PermissionError:\n",
    "            raise KeyError(f\"Please close the file {output_path} first.\")\n",
    "            \n",
    "    \n",
    "    "
   ]
  },
  {
   "cell_type": "code",
   "execution_count": null,
   "metadata": {},
   "outputs": [],
   "source": []
  },
  {
   "cell_type": "code",
   "execution_count": 10,
   "metadata": {
    "notebookRunGroups": {
     "groupValue": "1"
    }
   },
   "outputs": [],
   "source": [
    "def test_export_audio():\n",
    "    filepath = r\"G:\\My Drive\\G_Videos\\Learn French\\Learn to speak French in 5 minutes - a dialogue for beginners!.mp3\"\n",
    "    audio = AudioSegment.from_file(filepath) \n",
    "\n",
    "    OUTPUT_FOLDER:str = \"G:\\My Drive\\G_Videos\\Learn French\\Pydub Export test01\"\n",
    "\n",
    "    start_time = 35 * 1000  # Start at 35 seconds\n",
    "    end_time = (1*60 + 35) * 1000    # End at 1 minute and 35 seconds\n",
    "    \n",
    "    manual_edit = {\n",
    "        6:  [14_633 , 15_933],\n",
    "        7:  [24_455 , 25_534],\n",
    "        8:  [25_700 , 27_550],\n",
    "        9:  [27_899 , 30_000],\n",
    "        10: [31_075 , 32_863],\n",
    "        11: [33_439 , 36_188],\n",
    "        12: [37_280 , 42_100],\n",
    "        14: [42_865 , 47_224],\n",
    "        \n",
    "        }\n",
    "    \n",
    "    # output_names01 has no index 10\n",
    "    output_names01 = {\n",
    "        6:  \"01.01_I'm....mp3\",\n",
    "        7:  \"01.02_Pleased to meet you.mp3\",\n",
    "        8:  \"01.03_That's a nice name.mp3\",\n",
    "        9:  \"01.05_Can I ask you a question?.mp3\",\n",
    "        11: \"01.06_What do you like to do on a weekend?.mp3\",\n",
    "        12: \"01.07_I like to learn French and read and you?.mp3\",\n",
    "        14: \"01.08_I like to watch television.mp3\",\n",
    "        \n",
    "        }\n",
    "    \n",
    "    output_names02 = {\n",
    "        6:  \"01.01_I'm....mp3\",\n",
    "        7:  \"01.02_Pleased to meet you.mp3\",\n",
    "        8:  \"01.03_That's a nice name.mp3\",\n",
    "        9:  \"01.05_Can I ask you a question?.mp3\",\n",
    "        10: \"01.07_Yes, of course.mp3\",\n",
    "        11: \"01.08_What do you like to do on a weekend?.mp3\",\n",
    "        12: \"01.09_I like to learn French and read and you?.mp3\",\n",
    "        14: \"01.10_I like to watch television.mp3\",\n",
    "        \n",
    "        }\n",
    "    \n",
    "    output_names03 = {\n",
    "        6:  \"01.01_I'm....wav\",\n",
    "        7:  \"01.02_Pleased to meet you.wav\",\n",
    "        8:  \"01.03_That's a nice name.wav\",\n",
    "        9:  \"01.05_Can I ask you a question?.wav\",\n",
    "        10: \"01.07_Yes, of course.mp3\",\n",
    "        11: \"01.08_What do you like to do on a weekend?.wav\",\n",
    "        12: \"01.09_I like to learn French and read and you?.wav\",\n",
    "        14: \"01.10_I like to watch television.wav\",\n",
    "        \n",
    "        }\n",
    "    \n",
    "    # Extract the segment from the audio\n",
    "    segment = audio[start_time:end_time]\n",
    "    try:\n",
    "        export_audio(segment, manual_edit, output_names01,output_folder=OUTPUT_FOLDER)\n",
    "    except Exception as error:\n",
    "        assert isinstance(error, KeyError)\n",
    "        \n",
    "    export_audio(segment, manual_edit, output_names02,output_folder=OUTPUT_FOLDER)\n",
    "    export_audio(segment, manual_edit, output_names03,output_folder=OUTPUT_FOLDER)\n",
    "\n",
    "def test_text_to_milisecond():\n",
    "    import inspect_py as inp\n",
    "    actual01 = text_to_milisecond(\"4.32\") # Output: 272000\n",
    "    actual02 = text_to_milisecond(\"1.40.32\")  # Output: 6032000\n",
    "    actual03 = text_to_milisecond(5000)  # Output: 5000\n",
    "    \n",
    "    expect01 = 272_000\n",
    "    expect02 = 6032000\n",
    "    expect03 = 5000\n",
    "    \n",
    "    assert actual01 == expect01, inp.assert_message(actual01, expect01)\n",
    "    assert actual02 == expect02, inp.assert_message(actual02, expect02)\n",
    "    assert actual03 == expect03, inp.assert_message(actual03, expect03)\n",
    "\n",
    "# test_text_to_milisecond()\n",
    "\n",
    "# test_export_audio()"
   ]
  },
  {
   "cell_type": "code",
   "execution_count": 169,
   "metadata": {
    "notebookRunGroups": {
     "groupValue": "1"
    }
   },
   "outputs": [],
   "source": [
    "alarm_path = r\"H:\\D_Music\\Sound Effect positive-logo-opener.mp3\"\n",
    "filepath = r\"G:\\My Drive\\G_Videos\\Learn French\\French Phrases Video\\02 French Phrases youll hear EVERYDAY in French conversations.mp4\"\n",
    "OUTPUT_FOLDER:str = r\"G:\\My Drive\\G_Videos\\Learn French\\Pydub Export\\02 Common Phrases\""
   ]
  },
  {
   "cell_type": "code",
   "execution_count": null,
   "metadata": {},
   "outputs": [],
   "source": [
    "audio = AudioSegment.from_file(filepath) "
   ]
  },
  {
   "cell_type": "code",
   "execution_count": 3,
   "metadata": {},
   "outputs": [],
   "source": [
    "start_time = 35 * 1000  # Start at 35 seconds\n",
    "end_time = (1*60 + 35) * 1000    # End at 1 minute and 35 seconds\n"
   ]
  },
  {
   "cell_type": "code",
   "execution_count": 4,
   "metadata": {},
   "outputs": [
    {
     "data": {
      "text/plain": [
       "'0.28'"
      ]
     },
     "execution_count": 4,
     "metadata": {},
     "output_type": "execute_result"
    }
   ],
   "source": [
    "time_in_ms:int = 28_000\n",
    "vt.ms_to_time_text(time_in_ms)"
   ]
  },
  {
   "cell_type": "code",
   "execution_count": 279,
   "metadata": {},
   "outputs": [
    {
     "name": "stdout",
     "output_type": "stream",
     "text": [
      "298_000\n",
      "300_000\n"
     ]
    }
   ],
   "source": [
    "time_in_str:str = \"4.58\"\n",
    "vt.text_to_milisecond(time_in_str)\n",
    "print(f\"{vt.text_to_milisecond(time_in_str):_}\")\n",
    "print(f\"{vt.text_to_milisecond(time_in_str)+2000:_}\")"
   ]
  },
  {
   "cell_type": "code",
   "execution_count": 291,
   "metadata": {
    "notebookRunGroups": {
     "groupValue": "2"
    }
   },
   "outputs": [],
   "source": [
    "output_names = {\n",
    "    1:  \"01_What's up_Quoi de neuf.mp3\",\n",
    "    2:  \"02_Long time no see_Ça fait longtemps.mp3\",\n",
    "    3:  \"03_It works_It works/ok.mp3\",\n",
    "    4:  \"04_I can't make it(I can't come)_Je peux pas venir.mp3\",\n",
    "    5.1:  \"05.1_I'm on my way_Je suis en chemin.mp3\",\n",
    "    5.2:  \"05.2_I'm on my way_Je suis en route.mp3\",\n",
    "    5.3:  \"05.3_I'm on my way_J'arrive.mp3\",\n",
    "    6:  \"06_I'm not far_Je suis pas loin.mp3\",\n",
    "    7:  \"07_Good luck_Bonne chance.mp3\",\n",
    "    8:  \"08_Get well soon_Bon rétablissement.mp3\",\n",
    "    9:  \"09_Keep up the good work_Bravo, Continuez comme ça.mp3\",\n",
    "    10.1:  \"10_It's crazy_C'est dingue.mp3\",\n",
    "    10.2:  \"10_It's crazy_C'est fou.mp3\",\n",
    "    11:  \"11_It's so cute. C'est trop mignon.mp3\",\n",
    "    12:  \"12_I'll think about it_Je vais y réfléchir.mp3\",\n",
    "    13:  \"13_I'm busy_Je suis occupé.mp3\",\n",
    "    14:  \"14_It's too expensive_C'est trop cher.mp3\",\n",
    "    15:  \"15_See you later_À plus.mp3\",\n",
    "    \n",
    "    }\n"
   ]
  },
  {
   "cell_type": "code",
   "execution_count": 293,
   "metadata": {
    "notebookRunGroups": {
     "groupValue": "1"
    }
   },
   "outputs": [],
   "source": [
    "# cut 6\n",
    "manual_edit = {\n",
    "    1:  [28_000 , 29_000],\n",
    "    2:  [43_500 , 45_000],\n",
    "    3:  [59_000 , 60_000],\n",
    "    4:  [76_000 , 77_000], \n",
    "    5.1:  [99_000 , 100_500],\n",
    "    5.2:  [101_000 , 102_000],\n",
    "    5.3:  [103_000 , 103_500],\n",
    "    6: [121_500 , 122_500],\n",
    "    7: [149_000 , 150_000],\n",
    "    8: [159_000 , 160_400],\n",
    "    9: [181_000 , 183_500],\n",
    "    10.1: [202_000 , 203_500],\n",
    "    10.2: [204_000 , 205_500],\n",
    "    11: [219_800 , 221_000],\n",
    "    12: [231_000 , 233_000],\n",
    "    13: [260_000 , 261_000],\n",
    "    14: [278_000 , 279_700],\n",
    "    15: [297_500 , 298_500],\n",
    "    \n",
    "    }\n",
    "manual_index = max(manual_edit.keys())\n",
    "\n",
    "# manual_index = 10.2"
   ]
  },
  {
   "cell_type": "code",
   "execution_count": 294,
   "metadata": {
    "notebookRunGroups": {
     "groupValue": "1"
    }
   },
   "outputs": [],
   "source": [
    "# if your index is higher than it would crash your kernel\n",
    "if manual_edit[manual_index][0] > manual_edit[manual_index][1]:\n",
    "    raise Exception(f\"check your index make sure first index is less than second index\")\n",
    "\n",
    "test_audio02 = audio[manual_edit[manual_index][0] : manual_edit[manual_index][1]]\n",
    "play(test_audio02)\n"
   ]
  },
  {
   "cell_type": "code",
   "execution_count": 296,
   "metadata": {},
   "outputs": [
    {
     "name": "stderr",
     "output_type": "stream",
     "text": [
      "100%|██████████| 18/18 [00:04<00:00,  4.15it/s]\n"
     ]
    }
   ],
   "source": [
    "# play(chunks[audio_index])\n",
    "vt.export_audio(audio, manual_edit, output_names,output_folder=OUTPUT_FOLDER)\n",
    "\n",
    "# plot_loudness(segment)\n"
   ]
  }
 ],
 "metadata": {
  "kernelspec": {
   "display_name": "eleven_labs",
   "language": "python",
   "name": "python3"
  },
  "language_info": {
   "codemirror_mode": {
    "name": "ipython",
    "version": 3
   },
   "file_extension": ".py",
   "mimetype": "text/x-python",
   "name": "python",
   "nbconvert_exporter": "python",
   "pygments_lexer": "ipython3",
   "version": "3.9.18"
  },
  "orig_nbformat": 4
 },
 "nbformat": 4,
 "nbformat_minor": 2
}
